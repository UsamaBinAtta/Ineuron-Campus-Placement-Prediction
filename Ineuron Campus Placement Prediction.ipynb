{
 "cells": [
  {
   "cell_type": "markdown",
   "id": "fa735254",
   "metadata": {},
   "source": [
    "# Campus Placement Prediction"
   ]
  },
  {
   "cell_type": "markdown",
   "id": "8c6d3047",
   "metadata": {},
   "source": [
    "# Binary Classification Problem"
   ]
  },
  {
   "cell_type": "markdown",
   "id": "d8b8fb44",
   "metadata": {},
   "source": [
    "# Target Variables "
   ]
  },
  {
   "cell_type": "markdown",
   "id": "58edd423",
   "metadata": {},
   "source": [
    "# 1: Placed ,  2: Not Placed"
   ]
  },
  {
   "cell_type": "markdown",
   "id": "c2de3427",
   "metadata": {},
   "source": [
    "# 1. Importing Essential Libraries"
   ]
  },
  {
   "cell_type": "markdown",
   "id": "6fe6177c",
   "metadata": {},
   "source": [
    "# 2. Import Dataset"
   ]
  },
  {
   "cell_type": "markdown",
   "id": "583941fc",
   "metadata": {},
   "source": [
    "# 3. Exploratory Data Analysis"
   ]
  },
  {
   "cell_type": "markdown",
   "id": "6f7154b9",
   "metadata": {},
   "source": [
    "### a. Check shape of Dataset"
   ]
  },
  {
   "cell_type": "markdown",
   "id": "9e558bdb",
   "metadata": {},
   "source": [
    "### b. precview the dataset"
   ]
  },
  {
   "cell_type": "markdown",
   "id": "ea2bfc10",
   "metadata": {},
   "source": [
    "### c. summary of the dataset"
   ]
  },
  {
   "cell_type": "markdown",
   "id": "6edc52bc",
   "metadata": {},
   "source": [
    "### d. Description of Dataset"
   ]
  },
  {
   "cell_type": "markdown",
   "id": "4225041a",
   "metadata": {},
   "source": [
    "### e. check data types of column"
   ]
  },
  {
   "cell_type": "markdown",
   "id": "b73d82ce",
   "metadata": {},
   "source": [
    "### f. important points about dataset"
   ]
  },
  {
   "cell_type": "markdown",
   "id": "74a3ddf0",
   "metadata": {},
   "source": [
    "### g. statistical properties of dataset"
   ]
  },
  {
   "cell_type": "markdown",
   "id": "b5a91d04",
   "metadata": {},
   "source": [
    "### h. view column Names"
   ]
  },
  {
   "cell_type": "markdown",
   "id": "7c3f1290",
   "metadata": {},
   "source": [
    "# 4. Univariate Analysis"
   ]
  },
  {
   "cell_type": "markdown",
   "id": "b9eb8684",
   "metadata": {},
   "source": [
    "### a. Analysis od target feature Variables"
   ]
  },
  {
   "cell_type": "markdown",
   "id": "1e38b627",
   "metadata": {},
   "source": [
    "### b. Finding of univariate Variables"
   ]
  },
  {
   "cell_type": "markdown",
   "id": "54781df7",
   "metadata": {},
   "source": [
    "# 5. Bivariate Analysis"
   ]
  },
  {
   "cell_type": "markdown",
   "id": "3c07f107",
   "metadata": {},
   "source": [
    "### a. Estimate correlation cofficients"
   ]
  },
  {
   "cell_type": "markdown",
   "id": "6ef29e9b",
   "metadata": {},
   "source": [
    "### b. Analysis of target variable and cp variables"
   ]
  },
  {
   "cell_type": "markdown",
   "id": "a53c7f16",
   "metadata": {},
   "source": [
    "### c. Analysis of target variable and thalach variables"
   ]
  },
  {
   "cell_type": "markdown",
   "id": "528ca252",
   "metadata": {},
   "source": [
    "### d. Findings of bivariate Analysis"
   ]
  },
  {
   "cell_type": "markdown",
   "id": "86300527",
   "metadata": {},
   "source": [
    "# 6. Multivariate Analysis"
   ]
  },
  {
   "cell_type": "markdown",
   "id": "efec3e53",
   "metadata": {},
   "source": [
    "### Heatmap"
   ]
  },
  {
   "cell_type": "markdown",
   "id": "7a6f1e38",
   "metadata": {},
   "source": [
    "# 7. Train Test Split"
   ]
  },
  {
   "cell_type": "markdown",
   "id": "073fdb35",
   "metadata": {},
   "source": [
    "# 8.Fiting the classifer"
   ]
  },
  {
   "cell_type": "markdown",
   "id": "1a51ff6a",
   "metadata": {},
   "source": [
    "# 9. Predication"
   ]
  },
  {
   "cell_type": "markdown",
   "id": "fe38774b",
   "metadata": {},
   "source": [
    "# 10. Comparison of Different Classifers"
   ]
  },
  {
   "cell_type": "markdown",
   "id": "aafea6fc",
   "metadata": {},
   "source": [
    "# 11. Input to the model"
   ]
  },
  {
   "cell_type": "markdown",
   "id": "9e7094c7",
   "metadata": {},
   "source": [
    "# 12. Generate pickle File"
   ]
  },
  {
   "cell_type": "markdown",
   "id": "17c5fc77",
   "metadata": {},
   "source": [
    "# 13. web app using Streamlit"
   ]
  },
  {
   "cell_type": "markdown",
   "id": "a0f3096f",
   "metadata": {},
   "source": [
    "# 14. Deployement"
   ]
  },
  {
   "cell_type": "markdown",
   "id": "5d3d1d40",
   "metadata": {},
   "source": [
    "# Importing Essential Libraries"
   ]
  },
  {
   "cell_type": "code",
   "execution_count": 1,
   "id": "93d5a461",
   "metadata": {},
   "outputs": [
    {
     "name": "stderr",
     "output_type": "stream",
     "text": [
      "C:\\Users\\usama\\anaconda3\\lib\\site-packages\\scipy\\__init__.py:146: UserWarning: A NumPy version >=1.16.5 and <1.23.0 is required for this version of SciPy (detected version 1.24.3\n",
      "  warnings.warn(f\"A NumPy version >={np_minversion} and <{np_maxversion}\"\n"
     ]
    }
   ],
   "source": [
    "import numpy as np\n",
    "import pandas as pd\n",
    "import matplotlib.pyplot as plt\n",
    "import seaborn as sns\n",
    "\n",
    "%matplotlib inline\n",
    "import warnings"
   ]
  },
  {
   "cell_type": "markdown",
   "id": "7ccadaec",
   "metadata": {},
   "source": [
    "# Importing The Dataset"
   ]
  },
  {
   "cell_type": "code",
   "execution_count": 2,
   "id": "c4362ed5",
   "metadata": {},
   "outputs": [],
   "source": [
    "df = pd.read_csv(\"train.csv\")"
   ]
  },
  {
   "cell_type": "markdown",
   "id": "4a46523e",
   "metadata": {},
   "source": [
    "#### verifying it is a \"dataframe\" object in pandas"
   ]
  },
  {
   "cell_type": "code",
   "execution_count": 3,
   "id": "06e7a591",
   "metadata": {},
   "outputs": [
    {
     "data": {
      "text/plain": [
       "pandas.core.frame.DataFrame"
      ]
     },
     "execution_count": 3,
     "metadata": {},
     "output_type": "execute_result"
    }
   ],
   "source": [
    "type(df)"
   ]
  },
  {
   "cell_type": "markdown",
   "id": "e6c8f622",
   "metadata": {},
   "source": [
    "# Exploratory Data Analysis"
   ]
  },
  {
   "cell_type": "code",
   "execution_count": 4,
   "id": "54c88fd6",
   "metadata": {},
   "outputs": [
    {
     "data": {
      "text/plain": [
       "(215, 15)"
      ]
     },
     "execution_count": 4,
     "metadata": {},
     "output_type": "execute_result"
    }
   ],
   "source": [
    "#shape of the dataset\n",
    "df.shape"
   ]
  },
  {
   "cell_type": "markdown",
   "id": "71a788b6",
   "metadata": {},
   "source": [
    "# Feature of the dataset i.e Columns of Dataset"
   ]
  },
  {
   "cell_type": "code",
   "execution_count": 5,
   "id": "fb02d36f",
   "metadata": {},
   "outputs": [
    {
     "data": {
      "text/plain": [
       "Index(['sl_no', 'gender', 'ssc_p', 'ssc_b', 'hsc_p', 'hsc_b', 'hsc_s',\n",
       "       'degree_p', 'degree_t', 'workex', 'etest_p', 'specialisation', 'mba_p',\n",
       "       'status', 'salary'],\n",
       "      dtype='object')"
      ]
     },
     "execution_count": 5,
     "metadata": {},
     "output_type": "execute_result"
    }
   ],
   "source": [
    "df.columns"
   ]
  },
  {
   "cell_type": "markdown",
   "id": "b8dc07ad",
   "metadata": {},
   "source": [
    "# Preview the dataset to understand the data"
   ]
  },
  {
   "cell_type": "markdown",
   "id": "5934dd08",
   "metadata": {},
   "source": [
    "#### printing out dfirst 5 rows of dataset"
   ]
  },
  {
   "cell_type": "code",
   "execution_count": 6,
   "id": "30a1857a",
   "metadata": {},
   "outputs": [
    {
     "data": {
      "text/html": [
       "<div>\n",
       "<style scoped>\n",
       "    .dataframe tbody tr th:only-of-type {\n",
       "        vertical-align: middle;\n",
       "    }\n",
       "\n",
       "    .dataframe tbody tr th {\n",
       "        vertical-align: top;\n",
       "    }\n",
       "\n",
       "    .dataframe thead th {\n",
       "        text-align: right;\n",
       "    }\n",
       "</style>\n",
       "<table border=\"1\" class=\"dataframe\">\n",
       "  <thead>\n",
       "    <tr style=\"text-align: right;\">\n",
       "      <th></th>\n",
       "      <th>sl_no</th>\n",
       "      <th>gender</th>\n",
       "      <th>ssc_p</th>\n",
       "      <th>ssc_b</th>\n",
       "      <th>hsc_p</th>\n",
       "      <th>hsc_b</th>\n",
       "      <th>hsc_s</th>\n",
       "      <th>degree_p</th>\n",
       "      <th>degree_t</th>\n",
       "      <th>workex</th>\n",
       "      <th>etest_p</th>\n",
       "      <th>specialisation</th>\n",
       "      <th>mba_p</th>\n",
       "      <th>status</th>\n",
       "      <th>salary</th>\n",
       "    </tr>\n",
       "  </thead>\n",
       "  <tbody>\n",
       "    <tr>\n",
       "      <th>0</th>\n",
       "      <td>1</td>\n",
       "      <td>0</td>\n",
       "      <td>67.00</td>\n",
       "      <td>Others</td>\n",
       "      <td>91.00</td>\n",
       "      <td>Others</td>\n",
       "      <td>Commerce</td>\n",
       "      <td>58.00</td>\n",
       "      <td>Sci&amp;Tech</td>\n",
       "      <td>No</td>\n",
       "      <td>55.0</td>\n",
       "      <td>Mkt&amp;HR</td>\n",
       "      <td>58.80</td>\n",
       "      <td>Placed</td>\n",
       "      <td>270000.0</td>\n",
       "    </tr>\n",
       "    <tr>\n",
       "      <th>1</th>\n",
       "      <td>2</td>\n",
       "      <td>0</td>\n",
       "      <td>79.33</td>\n",
       "      <td>Central</td>\n",
       "      <td>78.33</td>\n",
       "      <td>Others</td>\n",
       "      <td>Science</td>\n",
       "      <td>77.48</td>\n",
       "      <td>Sci&amp;Tech</td>\n",
       "      <td>Yes</td>\n",
       "      <td>86.5</td>\n",
       "      <td>Mkt&amp;Fin</td>\n",
       "      <td>66.28</td>\n",
       "      <td>Placed</td>\n",
       "      <td>200000.0</td>\n",
       "    </tr>\n",
       "    <tr>\n",
       "      <th>2</th>\n",
       "      <td>3</td>\n",
       "      <td>0</td>\n",
       "      <td>65.00</td>\n",
       "      <td>Central</td>\n",
       "      <td>68.00</td>\n",
       "      <td>Central</td>\n",
       "      <td>Arts</td>\n",
       "      <td>64.00</td>\n",
       "      <td>Comm&amp;Mgmt</td>\n",
       "      <td>No</td>\n",
       "      <td>75.0</td>\n",
       "      <td>Mkt&amp;Fin</td>\n",
       "      <td>57.80</td>\n",
       "      <td>Placed</td>\n",
       "      <td>250000.0</td>\n",
       "    </tr>\n",
       "    <tr>\n",
       "      <th>3</th>\n",
       "      <td>4</td>\n",
       "      <td>0</td>\n",
       "      <td>56.00</td>\n",
       "      <td>Central</td>\n",
       "      <td>52.00</td>\n",
       "      <td>Central</td>\n",
       "      <td>Science</td>\n",
       "      <td>52.00</td>\n",
       "      <td>Sci&amp;Tech</td>\n",
       "      <td>No</td>\n",
       "      <td>66.0</td>\n",
       "      <td>Mkt&amp;HR</td>\n",
       "      <td>59.43</td>\n",
       "      <td>Not Placed</td>\n",
       "      <td>NaN</td>\n",
       "    </tr>\n",
       "    <tr>\n",
       "      <th>4</th>\n",
       "      <td>5</td>\n",
       "      <td>0</td>\n",
       "      <td>85.80</td>\n",
       "      <td>Central</td>\n",
       "      <td>73.60</td>\n",
       "      <td>Central</td>\n",
       "      <td>Commerce</td>\n",
       "      <td>73.30</td>\n",
       "      <td>Comm&amp;Mgmt</td>\n",
       "      <td>No</td>\n",
       "      <td>96.8</td>\n",
       "      <td>Mkt&amp;Fin</td>\n",
       "      <td>55.50</td>\n",
       "      <td>Placed</td>\n",
       "      <td>425000.0</td>\n",
       "    </tr>\n",
       "  </tbody>\n",
       "</table>\n",
       "</div>"
      ],
      "text/plain": [
       "   sl_no  gender  ssc_p    ssc_b  hsc_p    hsc_b     hsc_s  degree_p  \\\n",
       "0      1       0  67.00   Others  91.00   Others  Commerce     58.00   \n",
       "1      2       0  79.33  Central  78.33   Others   Science     77.48   \n",
       "2      3       0  65.00  Central  68.00  Central      Arts     64.00   \n",
       "3      4       0  56.00  Central  52.00  Central   Science     52.00   \n",
       "4      5       0  85.80  Central  73.60  Central  Commerce     73.30   \n",
       "\n",
       "    degree_t workex  etest_p specialisation  mba_p      status    salary  \n",
       "0   Sci&Tech     No     55.0         Mkt&HR  58.80      Placed  270000.0  \n",
       "1   Sci&Tech    Yes     86.5        Mkt&Fin  66.28      Placed  200000.0  \n",
       "2  Comm&Mgmt     No     75.0        Mkt&Fin  57.80      Placed  250000.0  \n",
       "3   Sci&Tech     No     66.0         Mkt&HR  59.43  Not Placed       NaN  \n",
       "4  Comm&Mgmt     No     96.8        Mkt&Fin  55.50      Placed  425000.0  "
      ]
     },
     "execution_count": 6,
     "metadata": {},
     "output_type": "execute_result"
    }
   ],
   "source": [
    "df.head(5)"
   ]
  },
  {
   "cell_type": "markdown",
   "id": "489377de",
   "metadata": {},
   "source": [
    "#### Gerenrate 5 sample rows or column"
   ]
  },
  {
   "cell_type": "code",
   "execution_count": 7,
   "id": "a0a57ae6",
   "metadata": {},
   "outputs": [
    {
     "data": {
      "text/html": [
       "<div>\n",
       "<style scoped>\n",
       "    .dataframe tbody tr th:only-of-type {\n",
       "        vertical-align: middle;\n",
       "    }\n",
       "\n",
       "    .dataframe tbody tr th {\n",
       "        vertical-align: top;\n",
       "    }\n",
       "\n",
       "    .dataframe thead th {\n",
       "        text-align: right;\n",
       "    }\n",
       "</style>\n",
       "<table border=\"1\" class=\"dataframe\">\n",
       "  <thead>\n",
       "    <tr style=\"text-align: right;\">\n",
       "      <th></th>\n",
       "      <th>sl_no</th>\n",
       "      <th>gender</th>\n",
       "      <th>ssc_p</th>\n",
       "      <th>ssc_b</th>\n",
       "      <th>hsc_p</th>\n",
       "      <th>hsc_b</th>\n",
       "      <th>hsc_s</th>\n",
       "      <th>degree_p</th>\n",
       "      <th>degree_t</th>\n",
       "      <th>workex</th>\n",
       "      <th>etest_p</th>\n",
       "      <th>specialisation</th>\n",
       "      <th>mba_p</th>\n",
       "      <th>status</th>\n",
       "      <th>salary</th>\n",
       "    </tr>\n",
       "  </thead>\n",
       "  <tbody>\n",
       "    <tr>\n",
       "      <th>156</th>\n",
       "      <td>157</td>\n",
       "      <td>0</td>\n",
       "      <td>84.2</td>\n",
       "      <td>Central</td>\n",
       "      <td>69.4</td>\n",
       "      <td>Central</td>\n",
       "      <td>Science</td>\n",
       "      <td>65.0</td>\n",
       "      <td>Sci&amp;Tech</td>\n",
       "      <td>Yes</td>\n",
       "      <td>80.0</td>\n",
       "      <td>Mkt&amp;HR</td>\n",
       "      <td>52.72</td>\n",
       "      <td>Placed</td>\n",
       "      <td>255000.0</td>\n",
       "    </tr>\n",
       "    <tr>\n",
       "      <th>116</th>\n",
       "      <td>117</td>\n",
       "      <td>0</td>\n",
       "      <td>68.2</td>\n",
       "      <td>Central</td>\n",
       "      <td>72.8</td>\n",
       "      <td>Central</td>\n",
       "      <td>Commerce</td>\n",
       "      <td>66.6</td>\n",
       "      <td>Comm&amp;Mgmt</td>\n",
       "      <td>Yes</td>\n",
       "      <td>96.0</td>\n",
       "      <td>Mkt&amp;Fin</td>\n",
       "      <td>70.85</td>\n",
       "      <td>Placed</td>\n",
       "      <td>300000.0</td>\n",
       "    </tr>\n",
       "    <tr>\n",
       "      <th>110</th>\n",
       "      <td>111</td>\n",
       "      <td>1</td>\n",
       "      <td>69.5</td>\n",
       "      <td>Central</td>\n",
       "      <td>70.0</td>\n",
       "      <td>Central</td>\n",
       "      <td>Science</td>\n",
       "      <td>72.0</td>\n",
       "      <td>Sci&amp;Tech</td>\n",
       "      <td>No</td>\n",
       "      <td>57.2</td>\n",
       "      <td>Mkt&amp;HR</td>\n",
       "      <td>54.80</td>\n",
       "      <td>Placed</td>\n",
       "      <td>250000.0</td>\n",
       "    </tr>\n",
       "    <tr>\n",
       "      <th>194</th>\n",
       "      <td>195</td>\n",
       "      <td>0</td>\n",
       "      <td>52.0</td>\n",
       "      <td>Others</td>\n",
       "      <td>55.0</td>\n",
       "      <td>Others</td>\n",
       "      <td>Commerce</td>\n",
       "      <td>56.3</td>\n",
       "      <td>Comm&amp;Mgmt</td>\n",
       "      <td>No</td>\n",
       "      <td>59.0</td>\n",
       "      <td>Mkt&amp;Fin</td>\n",
       "      <td>64.74</td>\n",
       "      <td>Not Placed</td>\n",
       "      <td>NaN</td>\n",
       "    </tr>\n",
       "    <tr>\n",
       "      <th>49</th>\n",
       "      <td>50</td>\n",
       "      <td>1</td>\n",
       "      <td>50.0</td>\n",
       "      <td>Others</td>\n",
       "      <td>37.0</td>\n",
       "      <td>Others</td>\n",
       "      <td>Arts</td>\n",
       "      <td>52.0</td>\n",
       "      <td>Others</td>\n",
       "      <td>No</td>\n",
       "      <td>65.0</td>\n",
       "      <td>Mkt&amp;HR</td>\n",
       "      <td>56.11</td>\n",
       "      <td>Not Placed</td>\n",
       "      <td>NaN</td>\n",
       "    </tr>\n",
       "  </tbody>\n",
       "</table>\n",
       "</div>"
      ],
      "text/plain": [
       "     sl_no  gender  ssc_p    ssc_b  hsc_p    hsc_b     hsc_s  degree_p  \\\n",
       "156    157       0   84.2  Central   69.4  Central   Science      65.0   \n",
       "116    117       0   68.2  Central   72.8  Central  Commerce      66.6   \n",
       "110    111       1   69.5  Central   70.0  Central   Science      72.0   \n",
       "194    195       0   52.0   Others   55.0   Others  Commerce      56.3   \n",
       "49      50       1   50.0   Others   37.0   Others      Arts      52.0   \n",
       "\n",
       "      degree_t workex  etest_p specialisation  mba_p      status    salary  \n",
       "156   Sci&Tech    Yes     80.0         Mkt&HR  52.72      Placed  255000.0  \n",
       "116  Comm&Mgmt    Yes     96.0        Mkt&Fin  70.85      Placed  300000.0  \n",
       "110   Sci&Tech     No     57.2         Mkt&HR  54.80      Placed  250000.0  \n",
       "194  Comm&Mgmt     No     59.0        Mkt&Fin  64.74  Not Placed       NaN  \n",
       "49      Others     No     65.0         Mkt&HR  56.11  Not Placed       NaN  "
      ]
     },
     "execution_count": 7,
     "metadata": {},
     "output_type": "execute_result"
    }
   ],
   "source": [
    "df.sample(5)"
   ]
  },
  {
   "cell_type": "markdown",
   "id": "98682116",
   "metadata": {},
   "source": [
    "##### Checking Null Values"
   ]
  },
  {
   "cell_type": "markdown",
   "id": "134a3b74",
   "metadata": {},
   "source": [
    "### as salary and sl_no columns are not required for placement status prediction so we drop it"
   ]
  },
  {
   "cell_type": "code",
   "execution_count": 8,
   "id": "eb6cf1f4",
   "metadata": {},
   "outputs": [],
   "source": [
    "df.drop(['salary','sl_no','ssc_b','hsc_b'], axis=1, inplace=True)"
   ]
  },
  {
   "cell_type": "code",
   "execution_count": 9,
   "id": "2e1b896d",
   "metadata": {},
   "outputs": [
    {
     "data": {
      "text/html": [
       "<div>\n",
       "<style scoped>\n",
       "    .dataframe tbody tr th:only-of-type {\n",
       "        vertical-align: middle;\n",
       "    }\n",
       "\n",
       "    .dataframe tbody tr th {\n",
       "        vertical-align: top;\n",
       "    }\n",
       "\n",
       "    .dataframe thead th {\n",
       "        text-align: right;\n",
       "    }\n",
       "</style>\n",
       "<table border=\"1\" class=\"dataframe\">\n",
       "  <thead>\n",
       "    <tr style=\"text-align: right;\">\n",
       "      <th></th>\n",
       "      <th>gender</th>\n",
       "      <th>ssc_p</th>\n",
       "      <th>hsc_p</th>\n",
       "      <th>hsc_s</th>\n",
       "      <th>degree_p</th>\n",
       "      <th>degree_t</th>\n",
       "      <th>workex</th>\n",
       "      <th>etest_p</th>\n",
       "      <th>specialisation</th>\n",
       "      <th>mba_p</th>\n",
       "      <th>status</th>\n",
       "    </tr>\n",
       "  </thead>\n",
       "  <tbody>\n",
       "    <tr>\n",
       "      <th>0</th>\n",
       "      <td>0</td>\n",
       "      <td>67.00</td>\n",
       "      <td>91.00</td>\n",
       "      <td>Commerce</td>\n",
       "      <td>58.00</td>\n",
       "      <td>Sci&amp;Tech</td>\n",
       "      <td>No</td>\n",
       "      <td>55.0</td>\n",
       "      <td>Mkt&amp;HR</td>\n",
       "      <td>58.80</td>\n",
       "      <td>Placed</td>\n",
       "    </tr>\n",
       "    <tr>\n",
       "      <th>1</th>\n",
       "      <td>0</td>\n",
       "      <td>79.33</td>\n",
       "      <td>78.33</td>\n",
       "      <td>Science</td>\n",
       "      <td>77.48</td>\n",
       "      <td>Sci&amp;Tech</td>\n",
       "      <td>Yes</td>\n",
       "      <td>86.5</td>\n",
       "      <td>Mkt&amp;Fin</td>\n",
       "      <td>66.28</td>\n",
       "      <td>Placed</td>\n",
       "    </tr>\n",
       "    <tr>\n",
       "      <th>2</th>\n",
       "      <td>0</td>\n",
       "      <td>65.00</td>\n",
       "      <td>68.00</td>\n",
       "      <td>Arts</td>\n",
       "      <td>64.00</td>\n",
       "      <td>Comm&amp;Mgmt</td>\n",
       "      <td>No</td>\n",
       "      <td>75.0</td>\n",
       "      <td>Mkt&amp;Fin</td>\n",
       "      <td>57.80</td>\n",
       "      <td>Placed</td>\n",
       "    </tr>\n",
       "    <tr>\n",
       "      <th>3</th>\n",
       "      <td>0</td>\n",
       "      <td>56.00</td>\n",
       "      <td>52.00</td>\n",
       "      <td>Science</td>\n",
       "      <td>52.00</td>\n",
       "      <td>Sci&amp;Tech</td>\n",
       "      <td>No</td>\n",
       "      <td>66.0</td>\n",
       "      <td>Mkt&amp;HR</td>\n",
       "      <td>59.43</td>\n",
       "      <td>Not Placed</td>\n",
       "    </tr>\n",
       "    <tr>\n",
       "      <th>4</th>\n",
       "      <td>0</td>\n",
       "      <td>85.80</td>\n",
       "      <td>73.60</td>\n",
       "      <td>Commerce</td>\n",
       "      <td>73.30</td>\n",
       "      <td>Comm&amp;Mgmt</td>\n",
       "      <td>No</td>\n",
       "      <td>96.8</td>\n",
       "      <td>Mkt&amp;Fin</td>\n",
       "      <td>55.50</td>\n",
       "      <td>Placed</td>\n",
       "    </tr>\n",
       "  </tbody>\n",
       "</table>\n",
       "</div>"
      ],
      "text/plain": [
       "   gender  ssc_p  hsc_p     hsc_s  degree_p   degree_t workex  etest_p  \\\n",
       "0       0  67.00  91.00  Commerce     58.00   Sci&Tech     No     55.0   \n",
       "1       0  79.33  78.33   Science     77.48   Sci&Tech    Yes     86.5   \n",
       "2       0  65.00  68.00      Arts     64.00  Comm&Mgmt     No     75.0   \n",
       "3       0  56.00  52.00   Science     52.00   Sci&Tech     No     66.0   \n",
       "4       0  85.80  73.60  Commerce     73.30  Comm&Mgmt     No     96.8   \n",
       "\n",
       "  specialisation  mba_p      status  \n",
       "0         Mkt&HR  58.80      Placed  \n",
       "1        Mkt&Fin  66.28      Placed  \n",
       "2        Mkt&Fin  57.80      Placed  \n",
       "3         Mkt&HR  59.43  Not Placed  \n",
       "4        Mkt&Fin  55.50      Placed  "
      ]
     },
     "execution_count": 9,
     "metadata": {},
     "output_type": "execute_result"
    }
   ],
   "source": [
    "df.head()"
   ]
  },
  {
   "cell_type": "code",
   "execution_count": 10,
   "id": "2408a2eb",
   "metadata": {},
   "outputs": [
    {
     "data": {
      "text/plain": [
       "gender            0\n",
       "ssc_p             0\n",
       "hsc_p             0\n",
       "hsc_s             0\n",
       "degree_p          0\n",
       "degree_t          0\n",
       "workex            0\n",
       "etest_p           0\n",
       "specialisation    0\n",
       "mba_p             0\n",
       "status            0\n",
       "dtype: int64"
      ]
     },
     "execution_count": 10,
     "metadata": {},
     "output_type": "execute_result"
    }
   ],
   "source": [
    "df.isnull().sum()"
   ]
  },
  {
   "cell_type": "markdown",
   "id": "f615ce00",
   "metadata": {},
   "source": [
    "# Univariate Analysis"
   ]
  },
  {
   "cell_type": "markdown",
   "id": "b18a90a0",
   "metadata": {},
   "source": [
    "#### our feature of interest is target  Variables"
   ]
  },
  {
   "cell_type": "code",
   "execution_count": 11,
   "id": "9f22813a",
   "metadata": {},
   "outputs": [
    {
     "name": "stdout",
     "output_type": "stream",
     "text": [
      "Total No Of Status\n",
      "2\n"
     ]
    }
   ],
   "source": [
    "print(\"Total No Of Status\")\n",
    "print(len(df.status.unique()))"
   ]
  },
  {
   "cell_type": "code",
   "execution_count": 12,
   "id": "0143cd48",
   "metadata": {},
   "outputs": [
    {
     "data": {
      "text/plain": [
       "array(['Placed', 'Not Placed'], dtype=object)"
      ]
     },
     "execution_count": 12,
     "metadata": {},
     "output_type": "execute_result"
    }
   ],
   "source": [
    "#looking at unique values\n",
    "df[\"status\"].unique()"
   ]
  },
  {
   "cell_type": "code",
   "execution_count": 13,
   "id": "b830e695",
   "metadata": {},
   "outputs": [
    {
     "data": {
      "text/plain": [
       "status\n",
       "Not Placed     67\n",
       "Placed        148\n",
       "dtype: int64"
      ]
     },
     "execution_count": 13,
     "metadata": {},
     "output_type": "execute_result"
    }
   ],
   "source": [
    "# frequency distribution of target variable\n",
    "# number of instances (rows) that belong to each class\n",
    "df.groupby(\"status\").size()"
   ]
  },
  {
   "cell_type": "markdown",
   "id": "66d05eaa",
   "metadata": {},
   "source": [
    "this is a classification problem\n",
    "\n",
    "\n",
    "binary classification problem\n"
   ]
  },
  {
   "cell_type": "code",
   "execution_count": 14,
   "id": "5b219f84",
   "metadata": {},
   "outputs": [
    {
     "data": {
      "image/png": "[encoded data removed]",
      "text/plain": [
       "<Figure size 576x432 with 1 Axes>"
      ]
     },
     "metadata": {
      "needs_background": "light"
     },
     "output_type": "display_data"
    }
   ],
   "source": [
    "#visualizing the frequency distribution\n",
    "f, ax = plt.subplots(figsize=(8,6))\n",
    "ax = sns.countplot(x=\"status\", data=df)\n",
    "plt.show()"
   ]
  },
  {
   "cell_type": "markdown",
   "id": "203d16b2",
   "metadata": {},
   "source": [
    "# Frequency distribution of \"target\" variable w.r.t. fdifferent features"
   ]
  },
  {
   "cell_type": "code",
   "execution_count": 15,
   "id": "e2527385",
   "metadata": {},
   "outputs": [
    {
     "data": {
      "text/plain": [
       "gender  status    \n",
       "0       Placed        100\n",
       "        Not Placed     39\n",
       "1       Placed         48\n",
       "        Not Placed     28\n",
       "Name: status, dtype: int64"
      ]
     },
     "execution_count": 15,
     "metadata": {},
     "output_type": "execute_result"
    }
   ],
   "source": [
    "# Frequency distribution of \"target\" variable w.r.t. fdifferent features\n",
    "# how many males and females are there in dataset\n",
    "df.groupby('gender')['status'].value_counts()"
   ]
  },
  {
   "cell_type": "code",
   "execution_count": 16,
   "id": "6dfd0832",
   "metadata": {},
   "outputs": [
    {
     "data": {
      "image/png": "[encoded data removed]",
      "text/plain": [
       "<Figure size 576x432 with 1 Axes>"
      ]
     },
     "metadata": {
      "needs_background": "light"
     },
     "output_type": "display_data"
    }
   ],
   "source": [
    "#visualizing the frequency distribution\n",
    "f, ax = plt.subplots(figsize=(8,6))\n",
    "ax = sns.countplot(x='gender', hue='status', data=df)\n",
    "plt.show()"
   ]
  },
  {
   "cell_type": "markdown",
   "id": "8ec6e9bb",
   "metadata": {},
   "source": [
    "###  Finding of univariate Variables"
   ]
  },
  {
   "cell_type": "markdown",
   "id": "4592af1a",
   "metadata": {},
   "source": [
    "# Discription"
   ]
  },
  {
   "cell_type": "code",
   "execution_count": 17,
   "id": "f47a7e83",
   "metadata": {},
   "outputs": [
    {
     "name": "stdout",
     "output_type": "stream",
     "text": [
      "<class 'pandas.core.frame.DataFrame'>\n",
      "RangeIndex: 215 entries, 0 to 214\n",
      "Data columns (total 11 columns):\n",
      " #   Column          Non-Null Count  Dtype  \n",
      "---  ------          --------------  -----  \n",
      " 0   gender          215 non-null    int64  \n",
      " 1   ssc_p           215 non-null    float64\n",
      " 2   hsc_p           215 non-null    float64\n",
      " 3   hsc_s           215 non-null    object \n",
      " 4   degree_p        215 non-null    float64\n",
      " 5   degree_t        215 non-null    object \n",
      " 6   workex          215 non-null    object \n",
      " 7   etest_p         215 non-null    float64\n",
      " 8   specialisation  215 non-null    object \n",
      " 9   mba_p           215 non-null    float64\n",
      " 10  status          215 non-null    object \n",
      "dtypes: float64(5), int64(1), object(5)\n",
      "memory usage: 18.6+ KB\n"
     ]
    }
   ],
   "source": [
    "#getting information about the attributes and thier datatypes\n",
    "df.info()"
   ]
  },
  {
   "cell_type": "markdown",
   "id": "89b714ef",
   "metadata": {},
   "source": [
    "# Class Label or target variable"
   ]
  },
  {
   "cell_type": "markdown",
   "id": "d45fd68a",
   "metadata": {},
   "source": [
    "### analysing the target variable"
   ]
  },
  {
   "cell_type": "code",
   "execution_count": 18,
   "id": "f2c1f1d0",
   "metadata": {},
   "outputs": [
    {
     "data": {
      "text/plain": [
       "count        215\n",
       "unique         2\n",
       "top       Placed\n",
       "freq         148\n",
       "Name: status, dtype: object"
      ]
     },
     "execution_count": 18,
     "metadata": {},
     "output_type": "execute_result"
    }
   ],
   "source": [
    "df[\"status\"].describe()"
   ]
  },
  {
   "cell_type": "markdown",
   "id": "61057171",
   "metadata": {},
   "source": [
    "# Label Encoding"
   ]
  },
  {
   "cell_type": "code",
   "execution_count": 19,
   "id": "89d376f4",
   "metadata": {},
   "outputs": [],
   "source": [
    "from sklearn.preprocessing import LabelEncoder\n",
    "encoder = LabelEncoder()"
   ]
  },
  {
   "cell_type": "code",
   "execution_count": 20,
   "id": "7381397c",
   "metadata": {},
   "outputs": [],
   "source": [
    "df[\"degree_t\"] = df[\"degree_t\"].astype('category')\n",
    "df[\"workex\"] = df[\"workex\"].astype('category')\n",
    "df[\"specialisation\"] = df[\"specialisation\"].astype('category')\n",
    "df[\"status\"] = df[\"status\"].astype('category')\n",
    "df[\"gender\"] = df[\"gender\"].astype('category')\n",
    "df[\"hsc_s\"] = df[\"hsc_s\"].astype('category')\n",
    "df.dtypes\n",
    "df[\"workex\"] = df[\"workex\"].cat.codes\n",
    "df[\"gender\"] = df[\"gender\"].cat.codes\n",
    "df[\"degree_t\"] = df[\"degree_t\"].cat.codes\n",
    "df[\"specialisation\"] = df[\"specialisation\"].cat.codes\n",
    "df[\"status\"] = df[\"status\"].cat.codes\n",
    "df[\"hsc_s\"] = df[\"hsc_s\"].cat.codes"
   ]
  },
  {
   "cell_type": "code",
   "execution_count": 21,
   "id": "74c7cb26",
   "metadata": {},
   "outputs": [
    {
     "data": {
      "text/html": [
       "<div>\n",
       "<style scoped>\n",
       "    .dataframe tbody tr th:only-of-type {\n",
       "        vertical-align: middle;\n",
       "    }\n",
       "\n",
       "    .dataframe tbody tr th {\n",
       "        vertical-align: top;\n",
       "    }\n",
       "\n",
       "    .dataframe thead th {\n",
       "        text-align: right;\n",
       "    }\n",
       "</style>\n",
       "<table border=\"1\" class=\"dataframe\">\n",
       "  <thead>\n",
       "    <tr style=\"text-align: right;\">\n",
       "      <th></th>\n",
       "      <th>gender</th>\n",
       "      <th>ssc_p</th>\n",
       "      <th>hsc_p</th>\n",
       "      <th>hsc_s</th>\n",
       "      <th>degree_p</th>\n",
       "      <th>degree_t</th>\n",
       "      <th>workex</th>\n",
       "      <th>etest_p</th>\n",
       "      <th>specialisation</th>\n",
       "      <th>mba_p</th>\n",
       "      <th>status</th>\n",
       "    </tr>\n",
       "  </thead>\n",
       "  <tbody>\n",
       "    <tr>\n",
       "      <th>0</th>\n",
       "      <td>0</td>\n",
       "      <td>67.00</td>\n",
       "      <td>91.00</td>\n",
       "      <td>1</td>\n",
       "      <td>58.00</td>\n",
       "      <td>2</td>\n",
       "      <td>0</td>\n",
       "      <td>55.0</td>\n",
       "      <td>1</td>\n",
       "      <td>58.80</td>\n",
       "      <td>1</td>\n",
       "    </tr>\n",
       "    <tr>\n",
       "      <th>1</th>\n",
       "      <td>0</td>\n",
       "      <td>79.33</td>\n",
       "      <td>78.33</td>\n",
       "      <td>2</td>\n",
       "      <td>77.48</td>\n",
       "      <td>2</td>\n",
       "      <td>1</td>\n",
       "      <td>86.5</td>\n",
       "      <td>0</td>\n",
       "      <td>66.28</td>\n",
       "      <td>1</td>\n",
       "    </tr>\n",
       "    <tr>\n",
       "      <th>2</th>\n",
       "      <td>0</td>\n",
       "      <td>65.00</td>\n",
       "      <td>68.00</td>\n",
       "      <td>0</td>\n",
       "      <td>64.00</td>\n",
       "      <td>0</td>\n",
       "      <td>0</td>\n",
       "      <td>75.0</td>\n",
       "      <td>0</td>\n",
       "      <td>57.80</td>\n",
       "      <td>1</td>\n",
       "    </tr>\n",
       "    <tr>\n",
       "      <th>3</th>\n",
       "      <td>0</td>\n",
       "      <td>56.00</td>\n",
       "      <td>52.00</td>\n",
       "      <td>2</td>\n",
       "      <td>52.00</td>\n",
       "      <td>2</td>\n",
       "      <td>0</td>\n",
       "      <td>66.0</td>\n",
       "      <td>1</td>\n",
       "      <td>59.43</td>\n",
       "      <td>0</td>\n",
       "    </tr>\n",
       "    <tr>\n",
       "      <th>4</th>\n",
       "      <td>0</td>\n",
       "      <td>85.80</td>\n",
       "      <td>73.60</td>\n",
       "      <td>1</td>\n",
       "      <td>73.30</td>\n",
       "      <td>0</td>\n",
       "      <td>0</td>\n",
       "      <td>96.8</td>\n",
       "      <td>0</td>\n",
       "      <td>55.50</td>\n",
       "      <td>1</td>\n",
       "    </tr>\n",
       "  </tbody>\n",
       "</table>\n",
       "</div>"
      ],
      "text/plain": [
       "   gender  ssc_p  hsc_p  hsc_s  degree_p  degree_t  workex  etest_p  \\\n",
       "0       0  67.00  91.00      1     58.00         2       0     55.0   \n",
       "1       0  79.33  78.33      2     77.48         2       1     86.5   \n",
       "2       0  65.00  68.00      0     64.00         0       0     75.0   \n",
       "3       0  56.00  52.00      2     52.00         2       0     66.0   \n",
       "4       0  85.80  73.60      1     73.30         0       0     96.8   \n",
       "\n",
       "   specialisation  mba_p  status  \n",
       "0               1  58.80       1  \n",
       "1               0  66.28       1  \n",
       "2               0  57.80       1  \n",
       "3               1  59.43       0  \n",
       "4               0  55.50       1  "
      ]
     },
     "execution_count": 21,
     "metadata": {},
     "output_type": "execute_result"
    }
   ],
   "source": [
    "df.head()"
   ]
  },
  {
   "cell_type": "markdown",
   "id": "d460bad5",
   "metadata": {},
   "source": [
    "### Statistics of Dataset"
   ]
  },
  {
   "cell_type": "code",
   "execution_count": 22,
   "id": "f9d9671a",
   "metadata": {},
   "outputs": [
    {
     "data": {
      "text/html": [
       "<div>\n",
       "<style scoped>\n",
       "    .dataframe tbody tr th:only-of-type {\n",
       "        vertical-align: middle;\n",
       "    }\n",
       "\n",
       "    .dataframe tbody tr th {\n",
       "        vertical-align: top;\n",
       "    }\n",
       "\n",
       "    .dataframe thead th {\n",
       "        text-align: right;\n",
       "    }\n",
       "</style>\n",
       "<table border=\"1\" class=\"dataframe\">\n",
       "  <thead>\n",
       "    <tr style=\"text-align: right;\">\n",
       "      <th></th>\n",
       "      <th>gender</th>\n",
       "      <th>ssc_p</th>\n",
       "      <th>hsc_p</th>\n",
       "      <th>hsc_s</th>\n",
       "      <th>degree_p</th>\n",
       "      <th>degree_t</th>\n",
       "      <th>workex</th>\n",
       "      <th>etest_p</th>\n",
       "      <th>specialisation</th>\n",
       "      <th>mba_p</th>\n",
       "      <th>status</th>\n",
       "    </tr>\n",
       "  </thead>\n",
       "  <tbody>\n",
       "    <tr>\n",
       "      <th>count</th>\n",
       "      <td>215.000000</td>\n",
       "      <td>215.000000</td>\n",
       "      <td>215.000000</td>\n",
       "      <td>215.000000</td>\n",
       "      <td>215.000000</td>\n",
       "      <td>215.000000</td>\n",
       "      <td>215.000000</td>\n",
       "      <td>215.000000</td>\n",
       "      <td>215.000000</td>\n",
       "      <td>215.000000</td>\n",
       "      <td>215.000000</td>\n",
       "    </tr>\n",
       "    <tr>\n",
       "      <th>mean</th>\n",
       "      <td>0.353488</td>\n",
       "      <td>67.303395</td>\n",
       "      <td>66.333163</td>\n",
       "      <td>1.372093</td>\n",
       "      <td>66.370186</td>\n",
       "      <td>0.600000</td>\n",
       "      <td>0.344186</td>\n",
       "      <td>72.100558</td>\n",
       "      <td>0.441860</td>\n",
       "      <td>62.278186</td>\n",
       "      <td>0.688372</td>\n",
       "    </tr>\n",
       "    <tr>\n",
       "      <th>std</th>\n",
       "      <td>0.479168</td>\n",
       "      <td>10.827205</td>\n",
       "      <td>10.897509</td>\n",
       "      <td>0.580978</td>\n",
       "      <td>7.358743</td>\n",
       "      <td>0.890238</td>\n",
       "      <td>0.476211</td>\n",
       "      <td>13.275956</td>\n",
       "      <td>0.497767</td>\n",
       "      <td>5.833385</td>\n",
       "      <td>0.464240</td>\n",
       "    </tr>\n",
       "    <tr>\n",
       "      <th>min</th>\n",
       "      <td>0.000000</td>\n",
       "      <td>40.890000</td>\n",
       "      <td>37.000000</td>\n",
       "      <td>0.000000</td>\n",
       "      <td>50.000000</td>\n",
       "      <td>0.000000</td>\n",
       "      <td>0.000000</td>\n",
       "      <td>50.000000</td>\n",
       "      <td>0.000000</td>\n",
       "      <td>51.210000</td>\n",
       "      <td>0.000000</td>\n",
       "    </tr>\n",
       "    <tr>\n",
       "      <th>25%</th>\n",
       "      <td>0.000000</td>\n",
       "      <td>60.600000</td>\n",
       "      <td>60.900000</td>\n",
       "      <td>1.000000</td>\n",
       "      <td>61.000000</td>\n",
       "      <td>0.000000</td>\n",
       "      <td>0.000000</td>\n",
       "      <td>60.000000</td>\n",
       "      <td>0.000000</td>\n",
       "      <td>57.945000</td>\n",
       "      <td>0.000000</td>\n",
       "    </tr>\n",
       "    <tr>\n",
       "      <th>50%</th>\n",
       "      <td>0.000000</td>\n",
       "      <td>67.000000</td>\n",
       "      <td>65.000000</td>\n",
       "      <td>1.000000</td>\n",
       "      <td>66.000000</td>\n",
       "      <td>0.000000</td>\n",
       "      <td>0.000000</td>\n",
       "      <td>71.000000</td>\n",
       "      <td>0.000000</td>\n",
       "      <td>62.000000</td>\n",
       "      <td>1.000000</td>\n",
       "    </tr>\n",
       "    <tr>\n",
       "      <th>75%</th>\n",
       "      <td>1.000000</td>\n",
       "      <td>75.700000</td>\n",
       "      <td>73.000000</td>\n",
       "      <td>2.000000</td>\n",
       "      <td>72.000000</td>\n",
       "      <td>2.000000</td>\n",
       "      <td>1.000000</td>\n",
       "      <td>83.500000</td>\n",
       "      <td>1.000000</td>\n",
       "      <td>66.255000</td>\n",
       "      <td>1.000000</td>\n",
       "    </tr>\n",
       "    <tr>\n",
       "      <th>max</th>\n",
       "      <td>1.000000</td>\n",
       "      <td>89.400000</td>\n",
       "      <td>97.700000</td>\n",
       "      <td>2.000000</td>\n",
       "      <td>91.000000</td>\n",
       "      <td>2.000000</td>\n",
       "      <td>1.000000</td>\n",
       "      <td>98.000000</td>\n",
       "      <td>1.000000</td>\n",
       "      <td>77.890000</td>\n",
       "      <td>1.000000</td>\n",
       "    </tr>\n",
       "  </tbody>\n",
       "</table>\n",
       "</div>"
      ],
      "text/plain": [
       "           gender       ssc_p       hsc_p       hsc_s    degree_p    degree_t  \\\n",
       "count  215.000000  215.000000  215.000000  215.000000  215.000000  215.000000   \n",
       "mean     0.353488   67.303395   66.333163    1.372093   66.370186    0.600000   \n",
       "std      0.479168   10.827205   10.897509    0.580978    7.358743    0.890238   \n",
       "min      0.000000   40.890000   37.000000    0.000000   50.000000    0.000000   \n",
       "25%      0.000000   60.600000   60.900000    1.000000   61.000000    0.000000   \n",
       "50%      0.000000   67.000000   65.000000    1.000000   66.000000    0.000000   \n",
       "75%      1.000000   75.700000   73.000000    2.000000   72.000000    2.000000   \n",
       "max      1.000000   89.400000   97.700000    2.000000   91.000000    2.000000   \n",
       "\n",
       "           workex     etest_p  specialisation       mba_p      status  \n",
       "count  215.000000  215.000000      215.000000  215.000000  215.000000  \n",
       "mean     0.344186   72.100558        0.441860   62.278186    0.688372  \n",
       "std      0.476211   13.275956        0.497767    5.833385    0.464240  \n",
       "min      0.000000   50.000000        0.000000   51.210000    0.000000  \n",
       "25%      0.000000   60.000000        0.000000   57.945000    0.000000  \n",
       "50%      0.000000   71.000000        0.000000   62.000000    1.000000  \n",
       "75%      1.000000   83.500000        1.000000   66.255000    1.000000  \n",
       "max      1.000000   98.000000        1.000000   77.890000    1.000000  "
      ]
     },
     "execution_count": 22,
     "metadata": {},
     "output_type": "execute_result"
    }
   ],
   "source": [
    "df.describe()"
   ]
  },
  {
   "cell_type": "code",
   "execution_count": 23,
   "id": "8058e840",
   "metadata": {},
   "outputs": [
    {
     "name": "stdout",
     "output_type": "stream",
     "text": [
      "<class 'pandas.core.frame.DataFrame'>\n",
      "RangeIndex: 215 entries, 0 to 214\n",
      "Data columns (total 11 columns):\n",
      " #   Column          Non-Null Count  Dtype  \n",
      "---  ------          --------------  -----  \n",
      " 0   gender          215 non-null    int8   \n",
      " 1   ssc_p           215 non-null    float64\n",
      " 2   hsc_p           215 non-null    float64\n",
      " 3   hsc_s           215 non-null    int8   \n",
      " 4   degree_p        215 non-null    float64\n",
      " 5   degree_t        215 non-null    int8   \n",
      " 6   workex          215 non-null    int8   \n",
      " 7   etest_p         215 non-null    float64\n",
      " 8   specialisation  215 non-null    int8   \n",
      " 9   mba_p           215 non-null    float64\n",
      " 10  status          215 non-null    int8   \n",
      "dtypes: float64(5), int8(6)\n",
      "memory usage: 9.8 KB\n"
     ]
    }
   ],
   "source": [
    "#getting information about the attributes and thier datatypes\n",
    "df.info()"
   ]
  },
  {
   "cell_type": "markdown",
   "id": "d17414fa",
   "metadata": {},
   "source": [
    "### analysing the target variable"
   ]
  },
  {
   "cell_type": "code",
   "execution_count": 24,
   "id": "846a1c29",
   "metadata": {},
   "outputs": [
    {
     "data": {
      "text/plain": [
       "count    215.000000\n",
       "mean       0.688372\n",
       "std        0.464240\n",
       "min        0.000000\n",
       "25%        0.000000\n",
       "50%        1.000000\n",
       "75%        1.000000\n",
       "max        1.000000\n",
       "Name: status, dtype: float64"
      ]
     },
     "execution_count": 24,
     "metadata": {},
     "output_type": "execute_result"
    }
   ],
   "source": [
    "df[\"status\"].describe()"
   ]
  },
  {
   "cell_type": "markdown",
   "id": "866805aa",
   "metadata": {},
   "source": [
    "# Checking for Outliers"
   ]
  },
  {
   "cell_type": "markdown",
   "id": "2b64c5f0",
   "metadata": {},
   "source": [
    "### An outlier is a data point that is noticeably different from the rest. They represent errors in measurement, bad data collection, or simply show variables not considered when collecting the data."
   ]
  },
  {
   "cell_type": "code",
   "execution_count": 25,
   "id": "b2ade011",
   "metadata": {},
   "outputs": [
    {
     "data": {
      "image/png": "[encoded data removed]",
      "text/plain": [
       "<Figure size 1440x720 with 14 Axes>"
      ]
     },
     "metadata": {
      "needs_background": "light"
     },
     "output_type": "display_data"
    }
   ],
   "source": [
    "fig, axs = plt.subplots(ncols=5,nrows=3,figsize=(20,10))\n",
    "index = 0\n",
    "axs = axs.flatten()\n",
    "for k,v in df.items():\n",
    "    sns.boxplot(y=v, ax=axs[index])\n",
    "    index+=1\n",
    "\n",
    "fig.delaxes(axs[index])\n",
    "plt.tight_layout(pad=0.3, w_pad=0.5,h_pad = 4.5) "
   ]
  },
  {
   "cell_type": "code",
   "execution_count": 26,
   "id": "be0f5efd",
   "metadata": {},
   "outputs": [],
   "source": [
    "# deleting some outliers in 2 columns degree_p and hsc_p\n",
    "df = df[~(df['degree_p']>=90)]\n",
    "df = df[~(df['hsc_p']>=95)]"
   ]
  },
  {
   "cell_type": "markdown",
   "id": "f1835c0f",
   "metadata": {},
   "source": [
    "# Bivariate Analysis"
   ]
  },
  {
   "cell_type": "markdown",
   "id": "4911f68f",
   "metadata": {},
   "source": [
    "### Estimate correlation cofficients"
   ]
  },
  {
   "cell_type": "markdown",
   "id": "46bdf9f5",
   "metadata": {},
   "source": [
    "### checking coorelation btw columns"
   ]
  },
  {
   "cell_type": "markdown",
   "id": "f7ab8b6e",
   "metadata": {},
   "source": [
    "##### Correlation plays a vital role in locating the important variables on which other variables depend."
   ]
  },
  {
   "cell_type": "code",
   "execution_count": 27,
   "id": "0e75548e",
   "metadata": {},
   "outputs": [
    {
     "data": {
      "text/html": [
       "<div>\n",
       "<style scoped>\n",
       "    .dataframe tbody tr th:only-of-type {\n",
       "        vertical-align: middle;\n",
       "    }\n",
       "\n",
       "    .dataframe tbody tr th {\n",
       "        vertical-align: top;\n",
       "    }\n",
       "\n",
       "    .dataframe thead th {\n",
       "        text-align: right;\n",
       "    }\n",
       "</style>\n",
       "<table border=\"1\" class=\"dataframe\">\n",
       "  <thead>\n",
       "    <tr style=\"text-align: right;\">\n",
       "      <th></th>\n",
       "      <th>gender</th>\n",
       "      <th>ssc_p</th>\n",
       "      <th>hsc_p</th>\n",
       "      <th>hsc_s</th>\n",
       "      <th>degree_p</th>\n",
       "      <th>degree_t</th>\n",
       "      <th>workex</th>\n",
       "      <th>etest_p</th>\n",
       "      <th>specialisation</th>\n",
       "      <th>mba_p</th>\n",
       "      <th>status</th>\n",
       "    </tr>\n",
       "  </thead>\n",
       "  <tbody>\n",
       "    <tr>\n",
       "      <th>gender</th>\n",
       "      <td>1.000000</td>\n",
       "      <td>0.059818</td>\n",
       "      <td>0.022187</td>\n",
       "      <td>-0.072116</td>\n",
       "      <td>0.154679</td>\n",
       "      <td>-0.063117</td>\n",
       "      <td>-0.093325</td>\n",
       "      <td>-0.081765</td>\n",
       "      <td>0.103355</td>\n",
       "      <td>0.298466</td>\n",
       "      <td>-0.098189</td>\n",
       "    </tr>\n",
       "    <tr>\n",
       "      <th>ssc_p</th>\n",
       "      <td>0.059818</td>\n",
       "      <td>1.000000</td>\n",
       "      <td>0.528111</td>\n",
       "      <td>0.229080</td>\n",
       "      <td>0.528753</td>\n",
       "      <td>0.193851</td>\n",
       "      <td>0.183073</td>\n",
       "      <td>0.264009</td>\n",
       "      <td>-0.177436</td>\n",
       "      <td>0.377438</td>\n",
       "      <td>0.605381</td>\n",
       "    </tr>\n",
       "    <tr>\n",
       "      <th>hsc_p</th>\n",
       "      <td>0.022187</td>\n",
       "      <td>0.528111</td>\n",
       "      <td>1.000000</td>\n",
       "      <td>-0.172575</td>\n",
       "      <td>0.443595</td>\n",
       "      <td>-0.095199</td>\n",
       "      <td>0.135144</td>\n",
       "      <td>0.208809</td>\n",
       "      <td>-0.222405</td>\n",
       "      <td>0.335610</td>\n",
       "      <td>0.499777</td>\n",
       "    </tr>\n",
       "    <tr>\n",
       "      <th>hsc_s</th>\n",
       "      <td>-0.072116</td>\n",
       "      <td>0.229080</td>\n",
       "      <td>-0.172575</td>\n",
       "      <td>1.000000</td>\n",
       "      <td>0.122510</td>\n",
       "      <td>0.589604</td>\n",
       "      <td>0.019540</td>\n",
       "      <td>0.076214</td>\n",
       "      <td>0.170520</td>\n",
       "      <td>0.027663</td>\n",
       "      <td>0.028882</td>\n",
       "    </tr>\n",
       "    <tr>\n",
       "      <th>degree_p</th>\n",
       "      <td>0.154679</td>\n",
       "      <td>0.528753</td>\n",
       "      <td>0.443595</td>\n",
       "      <td>0.122510</td>\n",
       "      <td>1.000000</td>\n",
       "      <td>0.049952</td>\n",
       "      <td>0.135100</td>\n",
       "      <td>0.226353</td>\n",
       "      <td>-0.232618</td>\n",
       "      <td>0.376261</td>\n",
       "      <td>0.479557</td>\n",
       "    </tr>\n",
       "    <tr>\n",
       "      <th>degree_t</th>\n",
       "      <td>-0.063117</td>\n",
       "      <td>0.193851</td>\n",
       "      <td>-0.095199</td>\n",
       "      <td>0.589604</td>\n",
       "      <td>0.049952</td>\n",
       "      <td>1.000000</td>\n",
       "      <td>0.123191</td>\n",
       "      <td>0.008704</td>\n",
       "      <td>0.081459</td>\n",
       "      <td>0.099991</td>\n",
       "      <td>-0.028670</td>\n",
       "    </tr>\n",
       "    <tr>\n",
       "      <th>workex</th>\n",
       "      <td>-0.093325</td>\n",
       "      <td>0.183073</td>\n",
       "      <td>0.135144</td>\n",
       "      <td>0.019540</td>\n",
       "      <td>0.135100</td>\n",
       "      <td>0.123191</td>\n",
       "      <td>1.000000</td>\n",
       "      <td>0.052862</td>\n",
       "      <td>-0.187200</td>\n",
       "      <td>0.174951</td>\n",
       "      <td>0.279091</td>\n",
       "    </tr>\n",
       "    <tr>\n",
       "      <th>etest_p</th>\n",
       "      <td>-0.081765</td>\n",
       "      <td>0.264009</td>\n",
       "      <td>0.208809</td>\n",
       "      <td>0.076214</td>\n",
       "      <td>0.226353</td>\n",
       "      <td>0.008704</td>\n",
       "      <td>0.052862</td>\n",
       "      <td>1.000000</td>\n",
       "      <td>-0.222765</td>\n",
       "      <td>0.203663</td>\n",
       "      <td>0.122770</td>\n",
       "    </tr>\n",
       "    <tr>\n",
       "      <th>specialisation</th>\n",
       "      <td>0.103355</td>\n",
       "      <td>-0.177436</td>\n",
       "      <td>-0.222405</td>\n",
       "      <td>0.170520</td>\n",
       "      <td>-0.232618</td>\n",
       "      <td>0.081459</td>\n",
       "      <td>-0.187200</td>\n",
       "      <td>-0.222765</td>\n",
       "      <td>1.000000</td>\n",
       "      <td>-0.100456</td>\n",
       "      <td>-0.251043</td>\n",
       "    </tr>\n",
       "    <tr>\n",
       "      <th>mba_p</th>\n",
       "      <td>0.298466</td>\n",
       "      <td>0.377438</td>\n",
       "      <td>0.335610</td>\n",
       "      <td>0.027663</td>\n",
       "      <td>0.376261</td>\n",
       "      <td>0.099991</td>\n",
       "      <td>0.174951</td>\n",
       "      <td>0.203663</td>\n",
       "      <td>-0.100456</td>\n",
       "      <td>1.000000</td>\n",
       "      <td>0.063197</td>\n",
       "    </tr>\n",
       "    <tr>\n",
       "      <th>status</th>\n",
       "      <td>-0.098189</td>\n",
       "      <td>0.605381</td>\n",
       "      <td>0.499777</td>\n",
       "      <td>0.028882</td>\n",
       "      <td>0.479557</td>\n",
       "      <td>-0.028670</td>\n",
       "      <td>0.279091</td>\n",
       "      <td>0.122770</td>\n",
       "      <td>-0.251043</td>\n",
       "      <td>0.063197</td>\n",
       "      <td>1.000000</td>\n",
       "    </tr>\n",
       "  </tbody>\n",
       "</table>\n",
       "</div>"
      ],
      "text/plain": [
       "                  gender     ssc_p     hsc_p     hsc_s  degree_p  degree_t  \\\n",
       "gender          1.000000  0.059818  0.022187 -0.072116  0.154679 -0.063117   \n",
       "ssc_p           0.059818  1.000000  0.528111  0.229080  0.528753  0.193851   \n",
       "hsc_p           0.022187  0.528111  1.000000 -0.172575  0.443595 -0.095199   \n",
       "hsc_s          -0.072116  0.229080 -0.172575  1.000000  0.122510  0.589604   \n",
       "degree_p        0.154679  0.528753  0.443595  0.122510  1.000000  0.049952   \n",
       "degree_t       -0.063117  0.193851 -0.095199  0.589604  0.049952  1.000000   \n",
       "workex         -0.093325  0.183073  0.135144  0.019540  0.135100  0.123191   \n",
       "etest_p        -0.081765  0.264009  0.208809  0.076214  0.226353  0.008704   \n",
       "specialisation  0.103355 -0.177436 -0.222405  0.170520 -0.232618  0.081459   \n",
       "mba_p           0.298466  0.377438  0.335610  0.027663  0.376261  0.099991   \n",
       "status         -0.098189  0.605381  0.499777  0.028882  0.479557 -0.028670   \n",
       "\n",
       "                  workex   etest_p  specialisation     mba_p    status  \n",
       "gender         -0.093325 -0.081765        0.103355  0.298466 -0.098189  \n",
       "ssc_p           0.183073  0.264009       -0.177436  0.377438  0.605381  \n",
       "hsc_p           0.135144  0.208809       -0.222405  0.335610  0.499777  \n",
       "hsc_s           0.019540  0.076214        0.170520  0.027663  0.028882  \n",
       "degree_p        0.135100  0.226353       -0.232618  0.376261  0.479557  \n",
       "degree_t        0.123191  0.008704        0.081459  0.099991 -0.028670  \n",
       "workex          1.000000  0.052862       -0.187200  0.174951  0.279091  \n",
       "etest_p         0.052862  1.000000       -0.222765  0.203663  0.122770  \n",
       "specialisation -0.187200 -0.222765        1.000000 -0.100456 -0.251043  \n",
       "mba_p           0.174951  0.203663       -0.100456  1.000000  0.063197  \n",
       "status          0.279091  0.122770       -0.251043  0.063197  1.000000  "
      ]
     },
     "execution_count": 27,
     "metadata": {},
     "output_type": "execute_result"
    }
   ],
   "source": [
    "df.corr()\n"
   ]
  },
  {
   "cell_type": "markdown",
   "id": "fb2c05b2",
   "metadata": {},
   "source": [
    "# Multivariate  Analysis"
   ]
  },
  {
   "cell_type": "markdown",
   "id": "05a5a2ee",
   "metadata": {},
   "source": [
    "### multivariate analysis are perform to discover opatterns and relationships in dataset"
   ]
  },
  {
   "cell_type": "markdown",
   "id": "34a9b537",
   "metadata": {},
   "source": [
    "### interpretation of heatmap"
   ]
  },
  {
   "cell_type": "code",
   "execution_count": 28,
   "id": "fa2ae72f",
   "metadata": {},
   "outputs": [
    {
     "data": {
      "image/png": "[encoded data removed]",
      "text/plain": [
       "<Figure size 720x720 with 2 Axes>"
      ]
     },
     "metadata": {
      "needs_background": "light"
     },
     "output_type": "display_data"
    }
   ],
   "source": [
    "import matplotlib.pyplot as plt\n",
    "import seaborn as sns\n",
    "\n",
    "# Create a heatmap to show correlation between features\n",
    "plt.figure(figsize=(10, 10))\n",
    "sns.heatmap(df.corr().abs(), annot=True, cmap='coolwarm')\n",
    "\n",
    "plt.show()\n",
    "   "
   ]
  },
  {
   "cell_type": "markdown",
   "id": "ea295020",
   "metadata": {},
   "source": [
    "# Analyzing the distributions of all features"
   ]
  },
  {
   "cell_type": "markdown",
   "id": "0dc577cc",
   "metadata": {},
   "source": [
    "##### analyze the distributions of all features"
   ]
  },
  {
   "cell_type": "code",
   "execution_count": 29,
   "id": "1120d269",
   "metadata": {},
   "outputs": [
    {
     "name": "stderr",
     "output_type": "stream",
     "text": [
      "C:\\Users\\usama\\anaconda3\\lib\\site-packages\\seaborn\\distributions.py:2619: FutureWarning: `distplot` is a deprecated function and will be removed in a future version. Please adapt your code to use either `displot` (a figure-level function with similar flexibility) or `histplot` (an axes-level function for histograms).\n",
      "  warnings.warn(msg, FutureWarning)\n",
      "C:\\Users\\usama\\anaconda3\\lib\\site-packages\\seaborn\\distributions.py:2619: FutureWarning: `distplot` is a deprecated function and will be removed in a future version. Please adapt your code to use either `displot` (a figure-level function with similar flexibility) or `histplot` (an axes-level function for histograms).\n",
      "  warnings.warn(msg, FutureWarning)\n",
      "C:\\Users\\usama\\anaconda3\\lib\\site-packages\\seaborn\\distributions.py:2619: FutureWarning: `distplot` is a deprecated function and will be removed in a future version. Please adapt your code to use either `displot` (a figure-level function with similar flexibility) or `histplot` (an axes-level function for histograms).\n",
      "  warnings.warn(msg, FutureWarning)\n",
      "C:\\Users\\usama\\anaconda3\\lib\\site-packages\\seaborn\\distributions.py:2619: FutureWarning: `distplot` is a deprecated function and will be removed in a future version. Please adapt your code to use either `displot` (a figure-level function with similar flexibility) or `histplot` (an axes-level function for histograms).\n",
      "  warnings.warn(msg, FutureWarning)\n",
      "C:\\Users\\usama\\anaconda3\\lib\\site-packages\\seaborn\\distributions.py:2619: FutureWarning: `distplot` is a deprecated function and will be removed in a future version. Please adapt your code to use either `displot` (a figure-level function with similar flexibility) or `histplot` (an axes-level function for histograms).\n",
      "  warnings.warn(msg, FutureWarning)\n",
      "C:\\Users\\usama\\anaconda3\\lib\\site-packages\\seaborn\\distributions.py:2619: FutureWarning: `distplot` is a deprecated function and will be removed in a future version. Please adapt your code to use either `displot` (a figure-level function with similar flexibility) or `histplot` (an axes-level function for histograms).\n",
      "  warnings.warn(msg, FutureWarning)\n",
      "C:\\Users\\usama\\anaconda3\\lib\\site-packages\\seaborn\\distributions.py:2619: FutureWarning: `distplot` is a deprecated function and will be removed in a future version. Please adapt your code to use either `displot` (a figure-level function with similar flexibility) or `histplot` (an axes-level function for histograms).\n",
      "  warnings.warn(msg, FutureWarning)\n",
      "C:\\Users\\usama\\anaconda3\\lib\\site-packages\\seaborn\\distributions.py:2619: FutureWarning: `distplot` is a deprecated function and will be removed in a future version. Please adapt your code to use either `displot` (a figure-level function with similar flexibility) or `histplot` (an axes-level function for histograms).\n",
      "  warnings.warn(msg, FutureWarning)\n",
      "C:\\Users\\usama\\anaconda3\\lib\\site-packages\\seaborn\\distributions.py:2619: FutureWarning: `distplot` is a deprecated function and will be removed in a future version. Please adapt your code to use either `displot` (a figure-level function with similar flexibility) or `histplot` (an axes-level function for histograms).\n",
      "  warnings.warn(msg, FutureWarning)\n",
      "C:\\Users\\usama\\anaconda3\\lib\\site-packages\\seaborn\\distributions.py:2619: FutureWarning: `distplot` is a deprecated function and will be removed in a future version. Please adapt your code to use either `displot` (a figure-level function with similar flexibility) or `histplot` (an axes-level function for histograms).\n",
      "  warnings.warn(msg, FutureWarning)\n",
      "C:\\Users\\usama\\anaconda3\\lib\\site-packages\\seaborn\\distributions.py:2619: FutureWarning: `distplot` is a deprecated function and will be removed in a future version. Please adapt your code to use either `displot` (a figure-level function with similar flexibility) or `histplot` (an axes-level function for histograms).\n",
      "  warnings.warn(msg, FutureWarning)\n"
     ]
    },
    {
     "data": {
      "image/png": "[encoded data removed]",
      "text/plain": [
       "<Figure size 1440x720 with 18 Axes>"
      ]
     },
     "metadata": {
      "needs_background": "light"
     },
     "output_type": "display_data"
    }
   ],
   "source": [
    "fig, axs = plt.subplots(ncols=6,nrows=3,figsize=(20,10))\n",
    "index = 0\n",
    "axs = axs.flatten()\n",
    "for k,v in df.items():\n",
    "    sns.distplot(v, ax=axs[index])\n",
    "    index+=1"
   ]
  },
  {
   "cell_type": "code",
   "execution_count": 30,
   "id": "276a33ce",
   "metadata": {},
   "outputs": [
    {
     "data": {
      "text/plain": [
       "Index(['gender', 'ssc_p', 'hsc_p', 'hsc_s', 'degree_p', 'degree_t', 'workex',\n",
       "       'etest_p', 'specialisation', 'mba_p', 'status'],\n",
       "      dtype='object')"
      ]
     },
     "execution_count": 30,
     "metadata": {},
     "output_type": "execute_result"
    }
   ],
   "source": [
    "df.columns"
   ]
  },
  {
   "cell_type": "code",
   "execution_count": 31,
   "id": "d8122ad1",
   "metadata": {},
   "outputs": [
    {
     "data": {
      "text/html": [
       "<div>\n",
       "<style scoped>\n",
       "    .dataframe tbody tr th:only-of-type {\n",
       "        vertical-align: middle;\n",
       "    }\n",
       "\n",
       "    .dataframe tbody tr th {\n",
       "        vertical-align: top;\n",
       "    }\n",
       "\n",
       "    .dataframe thead th {\n",
       "        text-align: right;\n",
       "    }\n",
       "</style>\n",
       "<table border=\"1\" class=\"dataframe\">\n",
       "  <thead>\n",
       "    <tr style=\"text-align: right;\">\n",
       "      <th></th>\n",
       "      <th>gender</th>\n",
       "      <th>ssc_p</th>\n",
       "      <th>hsc_p</th>\n",
       "      <th>hsc_s</th>\n",
       "      <th>degree_p</th>\n",
       "      <th>degree_t</th>\n",
       "      <th>workex</th>\n",
       "      <th>etest_p</th>\n",
       "      <th>specialisation</th>\n",
       "      <th>mba_p</th>\n",
       "      <th>status</th>\n",
       "    </tr>\n",
       "  </thead>\n",
       "  <tbody>\n",
       "    <tr>\n",
       "      <th>0</th>\n",
       "      <td>0</td>\n",
       "      <td>67.00</td>\n",
       "      <td>91.00</td>\n",
       "      <td>1</td>\n",
       "      <td>58.00</td>\n",
       "      <td>2</td>\n",
       "      <td>0</td>\n",
       "      <td>55.0</td>\n",
       "      <td>1</td>\n",
       "      <td>58.80</td>\n",
       "      <td>1</td>\n",
       "    </tr>\n",
       "    <tr>\n",
       "      <th>1</th>\n",
       "      <td>0</td>\n",
       "      <td>79.33</td>\n",
       "      <td>78.33</td>\n",
       "      <td>2</td>\n",
       "      <td>77.48</td>\n",
       "      <td>2</td>\n",
       "      <td>1</td>\n",
       "      <td>86.5</td>\n",
       "      <td>0</td>\n",
       "      <td>66.28</td>\n",
       "      <td>1</td>\n",
       "    </tr>\n",
       "    <tr>\n",
       "      <th>2</th>\n",
       "      <td>0</td>\n",
       "      <td>65.00</td>\n",
       "      <td>68.00</td>\n",
       "      <td>0</td>\n",
       "      <td>64.00</td>\n",
       "      <td>0</td>\n",
       "      <td>0</td>\n",
       "      <td>75.0</td>\n",
       "      <td>0</td>\n",
       "      <td>57.80</td>\n",
       "      <td>1</td>\n",
       "    </tr>\n",
       "    <tr>\n",
       "      <th>3</th>\n",
       "      <td>0</td>\n",
       "      <td>56.00</td>\n",
       "      <td>52.00</td>\n",
       "      <td>2</td>\n",
       "      <td>52.00</td>\n",
       "      <td>2</td>\n",
       "      <td>0</td>\n",
       "      <td>66.0</td>\n",
       "      <td>1</td>\n",
       "      <td>59.43</td>\n",
       "      <td>0</td>\n",
       "    </tr>\n",
       "    <tr>\n",
       "      <th>4</th>\n",
       "      <td>0</td>\n",
       "      <td>85.80</td>\n",
       "      <td>73.60</td>\n",
       "      <td>1</td>\n",
       "      <td>73.30</td>\n",
       "      <td>0</td>\n",
       "      <td>0</td>\n",
       "      <td>96.8</td>\n",
       "      <td>0</td>\n",
       "      <td>55.50</td>\n",
       "      <td>1</td>\n",
       "    </tr>\n",
       "  </tbody>\n",
       "</table>\n",
       "</div>"
      ],
      "text/plain": [
       "   gender  ssc_p  hsc_p  hsc_s  degree_p  degree_t  workex  etest_p  \\\n",
       "0       0  67.00  91.00      1     58.00         2       0     55.0   \n",
       "1       0  79.33  78.33      2     77.48         2       1     86.5   \n",
       "2       0  65.00  68.00      0     64.00         0       0     75.0   \n",
       "3       0  56.00  52.00      2     52.00         2       0     66.0   \n",
       "4       0  85.80  73.60      1     73.30         0       0     96.8   \n",
       "\n",
       "   specialisation  mba_p  status  \n",
       "0               1  58.80       1  \n",
       "1               0  66.28       1  \n",
       "2               0  57.80       1  \n",
       "3               1  59.43       0  \n",
       "4               0  55.50       1  "
      ]
     },
     "execution_count": 31,
     "metadata": {},
     "output_type": "execute_result"
    }
   ],
   "source": [
    "df.head()"
   ]
  },
  {
   "cell_type": "markdown",
   "id": "b0e5a944",
   "metadata": {},
   "source": [
    "# Train / Test split"
   ]
  },
  {
   "cell_type": "code",
   "execution_count": 32,
   "id": "df4764a3",
   "metadata": {},
   "outputs": [],
   "source": [
    "from sklearn.model_selection import train_test_split\n",
    "features = df.drop(\"status\",axis=1)\n",
    "target = df[\"status\"]\n",
    "X_train,X_test,Y_train,Y_test = train_test_split(features , target , test_size=0.2,random_state=0)"
   ]
  },
  {
   "cell_type": "code",
   "execution_count": 33,
   "id": "72faf25e",
   "metadata": {},
   "outputs": [
    {
     "data": {
      "text/plain": [
       "(169, 10)"
      ]
     },
     "execution_count": 33,
     "metadata": {},
     "output_type": "execute_result"
    }
   ],
   "source": [
    "X_train.shape"
   ]
  },
  {
   "cell_type": "code",
   "execution_count": 34,
   "id": "92a98b1e",
   "metadata": {},
   "outputs": [
    {
     "data": {
      "text/plain": [
       "(43, 10)"
      ]
     },
     "execution_count": 34,
     "metadata": {},
     "output_type": "execute_result"
    }
   ],
   "source": [
    "X_test.shape"
   ]
  },
  {
   "cell_type": "code",
   "execution_count": 35,
   "id": "a67d0b24",
   "metadata": {},
   "outputs": [
    {
     "data": {
      "text/plain": [
       "(169,)"
      ]
     },
     "execution_count": 35,
     "metadata": {},
     "output_type": "execute_result"
    }
   ],
   "source": [
    "Y_train.shape"
   ]
  },
  {
   "cell_type": "code",
   "execution_count": 36,
   "id": "41cc19fa",
   "metadata": {},
   "outputs": [
    {
     "data": {
      "text/plain": [
       "(43,)"
      ]
     },
     "execution_count": 36,
     "metadata": {},
     "output_type": "execute_result"
    }
   ],
   "source": [
    "Y_test.shape"
   ]
  },
  {
   "cell_type": "code",
   "execution_count": 37,
   "id": "f55185cc",
   "metadata": {},
   "outputs": [
    {
     "name": "stdout",
     "output_type": "stream",
     "text": [
      "(212,)\n",
      "(212, 10)\n"
     ]
    }
   ],
   "source": [
    "y = df.status\n",
    "X = df.drop('status' , axis=1)\n",
    "print(y.shape)\n",
    "print(X.shape)"
   ]
  },
  {
   "cell_type": "markdown",
   "id": "fa0e3052",
   "metadata": {},
   "source": [
    "# Summary of train test set"
   ]
  },
  {
   "cell_type": "code",
   "execution_count": 38,
   "id": "7eb49c03",
   "metadata": {},
   "outputs": [
    {
     "name": "stdout",
     "output_type": "stream",
     "text": [
      "Shape Of X_train(169, 10)\n",
      "Shape Of Y_train(169,)\n",
      "Shape Of X_test(43, 10)\n",
      "Shape Of Y_test(43,)\n"
     ]
    }
   ],
   "source": [
    "print(\"Shape Of X_train\"+str(X_train.shape))\n",
    "print(\"Shape Of Y_train\"+str(Y_train.shape))\n",
    "print(\"Shape Of X_test\"+str(X_test.shape))\n",
    "print(\"Shape Of Y_test\"+str(Y_test.shape))\n"
   ]
  },
  {
   "cell_type": "markdown",
   "id": "7524a2a3",
   "metadata": {},
   "source": [
    "###### We did this because their is difference in range of of features so it will become difficult for our machin learning model to predict to we will perform \"Data Standardization\""
   ]
  },
  {
   "cell_type": "markdown",
   "id": "e9361438",
   "metadata": {},
   "source": [
    "# Data Standardization"
   ]
  },
  {
   "cell_type": "code",
   "execution_count": 39,
   "id": "0c827fd5",
   "metadata": {},
   "outputs": [],
   "source": [
    "from sklearn.preprocessing import StandardScaler\n",
    "scaler = StandardScaler()"
   ]
  },
  {
   "cell_type": "code",
   "execution_count": 40,
   "id": "897dc3d3",
   "metadata": {},
   "outputs": [
    {
     "data": {
      "text/plain": [
       "StandardScaler()"
      ]
     },
     "execution_count": 40,
     "metadata": {},
     "output_type": "execute_result"
    }
   ],
   "source": [
    "scaler.fit(X)"
   ]
  },
  {
   "cell_type": "code",
   "execution_count": 41,
   "id": "15332bc0",
   "metadata": {},
   "outputs": [
    {
     "data": {
      "text/plain": [
       "array([[-0.73227856, -0.01432413,  2.37479035, ..., -1.29048509,\n",
       "         1.12041026, -0.58203494],\n",
       "       [-0.73227856,  1.12826645,  1.16624596, ...,  1.10609419,\n",
       "        -0.89253021,  0.71850577],\n",
       "       [-0.73227856, -0.19965918,  0.18090551, ...,  0.23115255,\n",
       "        -0.89253021, -0.75590402],\n",
       "       ...,\n",
       "       [-0.73227856, -0.01432413,  0.08551921, ..., -0.98615757,\n",
       "        -0.89253021,  1.3166154 ],\n",
       "       [ 1.36560055,  0.63434855, -0.00986708, ..., -0.14925686,\n",
       "         1.12041026, -0.33340216],\n",
       "       [-0.73227856, -0.47766175, -0.77295746, ...,  1.2962989 ,\n",
       "         1.12041026, -0.33514085]])"
      ]
     },
     "execution_count": 41,
     "metadata": {},
     "output_type": "execute_result"
    }
   ],
   "source": [
    "standardized_data = scaler.transform(X)\n",
    "standardized_data"
   ]
  },
  {
   "cell_type": "markdown",
   "id": "b668b9fe",
   "metadata": {},
   "source": [
    "## So Now"
   ]
  },
  {
   "cell_type": "code",
   "execution_count": 42,
   "id": "c92a7ddf",
   "metadata": {},
   "outputs": [
    {
     "name": "stdout",
     "output_type": "stream",
     "text": [
      "[[-0.73227856 -0.01432413  2.37479035 ... -1.29048509  1.12041026\n",
      "  -0.58203494]\n",
      " [-0.73227856  1.12826645  1.16624596 ...  1.10609419 -0.89253021\n",
      "   0.71850577]\n",
      " [-0.73227856 -0.19965918  0.18090551 ...  0.23115255 -0.89253021\n",
      "  -0.75590402]\n",
      " ...\n",
      " [-0.73227856 -0.01432413  0.08551921 ... -0.98615757 -0.89253021\n",
      "   1.3166154 ]\n",
      " [ 1.36560055  0.63434855 -0.00986708 ... -0.14925686  1.12041026\n",
      "  -0.33340216]\n",
      " [-0.73227856 -0.47766175 -0.77295746 ...  1.2962989   1.12041026\n",
      "  -0.33514085]]\n",
      "0      1\n",
      "1      1\n",
      "2      1\n",
      "3      0\n",
      "4      1\n",
      "      ..\n",
      "210    1\n",
      "211    1\n",
      "212    1\n",
      "213    1\n",
      "214    0\n",
      "Name: status, Length: 212, dtype: int8\n"
     ]
    }
   ],
   "source": [
    "X = standardized_data\n",
    "print(X)\n",
    "Y = df[\"status\"]\n",
    "print(Y)"
   ]
  },
  {
   "cell_type": "markdown",
   "id": "7045fd71",
   "metadata": {},
   "source": [
    "# Model Fitting"
   ]
  },
  {
   "cell_type": "markdown",
   "id": "3dc7d8a6",
   "metadata": {},
   "source": [
    "## Logistic Regression"
   ]
  },
  {
   "cell_type": "code",
   "execution_count": 43,
   "id": "f39b976a",
   "metadata": {},
   "outputs": [],
   "source": [
    "from sklearn.metrics import classification_report, confusion_matrix, roc_curve,auc\n",
    "from sklearn.metrics import accuracy_score, recall_score , f1_score,precision_score\n",
    "from sklearn.model_selection import train_test_split "
   ]
  },
  {
   "cell_type": "code",
   "execution_count": 44,
   "id": "d2739d86",
   "metadata": {
    "scrolled": true
   },
   "outputs": [
    {
     "name": "stderr",
     "output_type": "stream",
     "text": [
      "C:\\Users\\usama\\anaconda3\\lib\\site-packages\\sklearn\\linear_model\\_logistic.py:814: ConvergenceWarning: lbfgs failed to converge (status=1):\n",
      "STOP: TOTAL NO. of ITERATIONS REACHED LIMIT.\n",
      "\n",
      "Increase the number of iterations (max_iter) or scale the data as shown in:\n",
      "    https://scikit-learn.org/stable/modules/preprocessing.html\n",
      "Please also refer to the documentation for alternative solver options:\n",
      "    https://scikit-learn.org/stable/modules/linear_model.html#logistic-regression\n",
      "  n_iter_i = _check_optimize_result(\n"
     ]
    }
   ],
   "source": [
    "from sklearn.linear_model import LogisticRegression\n",
    "\n",
    "lr = LogisticRegression()\n",
    "\n",
    "lr.fit(X_train,Y_train)\n",
    "\n",
    "Y_pred_lr = lr.predict(X_test)"
   ]
  },
  {
   "cell_type": "code",
   "execution_count": 45,
   "id": "46adf0ab",
   "metadata": {},
   "outputs": [
    {
     "data": {
      "text/plain": [
       "(43,)"
      ]
     },
     "execution_count": 45,
     "metadata": {},
     "output_type": "execute_result"
    }
   ],
   "source": [
    "Y_pred_lr.shape"
   ]
  },
  {
   "cell_type": "markdown",
   "id": "d5e8cd20",
   "metadata": {},
   "source": [
    "# To Check the accuracy"
   ]
  },
  {
   "cell_type": "code",
   "execution_count": 46,
   "id": "a1979f1a",
   "metadata": {},
   "outputs": [],
   "source": [
    "from sklearn.metrics import accuracy_score\n",
    "import sklearn.metrics as metrics"
   ]
  },
  {
   "cell_type": "code",
   "execution_count": 47,
   "id": "87f50554",
   "metadata": {},
   "outputs": [
    {
     "name": "stdout",
     "output_type": "stream",
     "text": [
      "The accuracy Score achieved using Logistic Regression is 90.7%\n"
     ]
    }
   ],
   "source": [
    "score_lr = round(accuracy_score(Y_pred_lr,Y_test)*100,2)\n",
    "print(\"The accuracy Score achieved using Logistic Regression is \"+ str(score_lr)+\"%\")"
   ]
  },
  {
   "cell_type": "markdown",
   "id": "16f17913",
   "metadata": {},
   "source": [
    "# Confusion matrix and classification report"
   ]
  },
  {
   "cell_type": "code",
   "execution_count": 48,
   "id": "eb96dd23",
   "metadata": {},
   "outputs": [
    {
     "name": "stdout",
     "output_type": "stream",
     "text": [
      "[[16  3]\n",
      " [ 1 23]]\n",
      "              precision    recall  f1-score   support\n",
      "\n",
      "           0       0.94      0.84      0.89        19\n",
      "           1       0.88      0.96      0.92        24\n",
      "\n",
      "    accuracy                           0.91        43\n",
      "   macro avg       0.91      0.90      0.90        43\n",
      "weighted avg       0.91      0.91      0.91        43\n",
      "\n"
     ]
    }
   ],
   "source": [
    "print(metrics.confusion_matrix(Y_pred_lr,Y_test))\n",
    "print(classification_report(Y_pred_lr,Y_test))"
   ]
  },
  {
   "cell_type": "markdown",
   "id": "7b380f0b",
   "metadata": {},
   "source": [
    "# Naive Bayes"
   ]
  },
  {
   "cell_type": "code",
   "execution_count": 49,
   "id": "8f5c6ded",
   "metadata": {},
   "outputs": [],
   "source": [
    "from sklearn.naive_bayes import GaussianNB\n",
    "\n",
    "nb = GaussianNB()\n",
    "\n",
    "nb.fit(X_train,Y_train)\n",
    "\n",
    "Y_pred_nb = nb.predict(X_test)"
   ]
  },
  {
   "cell_type": "code",
   "execution_count": 50,
   "id": "4d04225b",
   "metadata": {},
   "outputs": [
    {
     "data": {
      "text/plain": [
       "(43,)"
      ]
     },
     "execution_count": 50,
     "metadata": {},
     "output_type": "execute_result"
    }
   ],
   "source": [
    "Y_pred_nb.shape"
   ]
  },
  {
   "cell_type": "markdown",
   "id": "83bdca2a",
   "metadata": {},
   "source": [
    "# Checking Accuracy Score"
   ]
  },
  {
   "cell_type": "code",
   "execution_count": 51,
   "id": "68987f9c",
   "metadata": {},
   "outputs": [
    {
     "name": "stdout",
     "output_type": "stream",
     "text": [
      "The accuracy Score achieved using Naive Bayes is 83.72%\n"
     ]
    }
   ],
   "source": [
    "score_nb = round(accuracy_score(Y_pred_nb,Y_test)*100,2)\n",
    "print(\"The accuracy Score achieved using Naive Bayes is \"+ str(score_nb)+\"%\")"
   ]
  },
  {
   "cell_type": "markdown",
   "id": "023deb19",
   "metadata": {},
   "source": [
    "# Confusion matrix and classification report"
   ]
  },
  {
   "cell_type": "code",
   "execution_count": 52,
   "id": "8a94cb6a",
   "metadata": {},
   "outputs": [
    {
     "name": "stdout",
     "output_type": "stream",
     "text": [
      "[[13  3]\n",
      " [ 4 23]]\n",
      "              precision    recall  f1-score   support\n",
      "\n",
      "           0       0.76      0.81      0.79        16\n",
      "           1       0.88      0.85      0.87        27\n",
      "\n",
      "    accuracy                           0.84        43\n",
      "   macro avg       0.82      0.83      0.83        43\n",
      "weighted avg       0.84      0.84      0.84        43\n",
      "\n"
     ]
    }
   ],
   "source": [
    "print(metrics.confusion_matrix(Y_pred_nb,Y_test))\n",
    "print(classification_report(Y_pred_nb,Y_test))"
   ]
  },
  {
   "cell_type": "markdown",
   "id": "8340cdfa",
   "metadata": {},
   "source": [
    "# Support Vector Machine"
   ]
  },
  {
   "cell_type": "code",
   "execution_count": 53,
   "id": "779301d5",
   "metadata": {},
   "outputs": [],
   "source": [
    "from sklearn import svm\n",
    "\n",
    "sv = svm.SVC(kernel='linear')\n",
    "\n",
    "sv.fit(X_train,Y_train)\n",
    "\n",
    "Y_pred_svm = sv.predict(X_test)"
   ]
  },
  {
   "cell_type": "code",
   "execution_count": 54,
   "id": "9bd04ddc",
   "metadata": {},
   "outputs": [
    {
     "data": {
      "text/plain": [
       "(43,)"
      ]
     },
     "execution_count": 54,
     "metadata": {},
     "output_type": "execute_result"
    }
   ],
   "source": [
    "Y_pred_svm.shape"
   ]
  },
  {
   "cell_type": "markdown",
   "id": "eb2a4193",
   "metadata": {},
   "source": [
    "# Checking Accuracy Score"
   ]
  },
  {
   "cell_type": "code",
   "execution_count": 55,
   "id": "eb5c2830",
   "metadata": {},
   "outputs": [
    {
     "name": "stdout",
     "output_type": "stream",
     "text": [
      "The accuracy Score achieved using SVM is 88.37%\n"
     ]
    }
   ],
   "source": [
    "score_svm = round(accuracy_score(Y_pred_svm,Y_test)*100,2)\n",
    "print(\"The accuracy Score achieved using SVM is \"+ str(score_svm)+\"%\")"
   ]
  },
  {
   "cell_type": "markdown",
   "id": "b67f3586",
   "metadata": {},
   "source": [
    "# Confusion matrix and classification report"
   ]
  },
  {
   "cell_type": "code",
   "execution_count": 56,
   "id": "a383ed20",
   "metadata": {},
   "outputs": [
    {
     "name": "stdout",
     "output_type": "stream",
     "text": [
      "[[13  3]\n",
      " [ 4 23]]\n",
      "              precision    recall  f1-score   support\n",
      "\n",
      "           0       0.76      0.81      0.79        16\n",
      "           1       0.88      0.85      0.87        27\n",
      "\n",
      "    accuracy                           0.84        43\n",
      "   macro avg       0.82      0.83      0.83        43\n",
      "weighted avg       0.84      0.84      0.84        43\n",
      "\n"
     ]
    }
   ],
   "source": [
    "print(metrics.confusion_matrix(Y_pred_nb,Y_test))\n",
    "print(classification_report(Y_pred_nb,Y_test))"
   ]
  },
  {
   "cell_type": "markdown",
   "id": "2c24ef7c",
   "metadata": {},
   "source": [
    "# K Nearest Neighbors"
   ]
  },
  {
   "cell_type": "code",
   "execution_count": 57,
   "id": "e18b2bec",
   "metadata": {},
   "outputs": [],
   "source": [
    "from sklearn.neighbors import KNeighborsClassifier\n",
    "\n",
    "knn = KNeighborsClassifier(n_neighbors=7)\n",
    "\n",
    "knn.fit(X_train,Y_train)\n",
    "\n",
    "Y_pred_knn = knn.predict(X_test)"
   ]
  },
  {
   "cell_type": "code",
   "execution_count": 58,
   "id": "d767e80f",
   "metadata": {},
   "outputs": [
    {
     "data": {
      "text/plain": [
       "(43,)"
      ]
     },
     "execution_count": 58,
     "metadata": {},
     "output_type": "execute_result"
    }
   ],
   "source": [
    "Y_pred_knn.shape"
   ]
  },
  {
   "cell_type": "markdown",
   "id": "508e70e5",
   "metadata": {},
   "source": [
    "# Checking Accuracy Score"
   ]
  },
  {
   "cell_type": "code",
   "execution_count": 59,
   "id": "7717c81e",
   "metadata": {},
   "outputs": [
    {
     "name": "stdout",
     "output_type": "stream",
     "text": [
      "The accuracy Score achieved using K Nearest Neighbors is 83.72%\n"
     ]
    }
   ],
   "source": [
    "score_knn = round(accuracy_score(Y_pred_knn,Y_test)*100,2)\n",
    "print(\"The accuracy Score achieved using K Nearest Neighbors is \"+ str(score_knn)+\"%\")"
   ]
  },
  {
   "cell_type": "markdown",
   "id": "002ebc86",
   "metadata": {},
   "source": [
    "# Confusion matrix and classification report"
   ]
  },
  {
   "cell_type": "code",
   "execution_count": 60,
   "id": "abae35b4",
   "metadata": {},
   "outputs": [
    {
     "name": "stdout",
     "output_type": "stream",
     "text": [
      "[[11  1]\n",
      " [ 6 25]]\n",
      "              precision    recall  f1-score   support\n",
      "\n",
      "           0       0.65      0.92      0.76        12\n",
      "           1       0.96      0.81      0.88        31\n",
      "\n",
      "    accuracy                           0.84        43\n",
      "   macro avg       0.80      0.86      0.82        43\n",
      "weighted avg       0.87      0.84      0.84        43\n",
      "\n"
     ]
    }
   ],
   "source": [
    "print(metrics.confusion_matrix(Y_pred_knn,Y_test))\n",
    "print(classification_report(Y_pred_knn,Y_test))"
   ]
  },
  {
   "cell_type": "markdown",
   "id": "08e0c9d0",
   "metadata": {},
   "source": [
    "# Decision Tree"
   ]
  },
  {
   "cell_type": "code",
   "execution_count": 61,
   "id": "1c2b05a5",
   "metadata": {},
   "outputs": [],
   "source": [
    "from sklearn.tree import DecisionTreeClassifier\n",
    "\n",
    "max_accuracy = 0\n",
    "\n",
    "for x in range (200):\n",
    "    dt = DecisionTreeClassifier(random_state=x)\n",
    "    dt.fit(X_train,Y_train)\n",
    "    Y_pred_dt = dt.predict(X_test)\n",
    "    current_accuracy = round(accuracy_score(Y_pred_dt,Y_test)*100,2)\n",
    "    if(current_accuracy>max_accuracy):\n",
    "        max_accuracy = current_accuracy\n",
    "        best_x = x\n",
    "        \n",
    "        \n",
    "dt = DecisionTreeClassifier(random_state=best_x)\n",
    "\n",
    "dt.fit(X_train,Y_train)\n",
    "\n",
    "Y_pred_dt = dt.predict(X_test)"
   ]
  },
  {
   "cell_type": "code",
   "execution_count": 62,
   "id": "be803370",
   "metadata": {},
   "outputs": [
    {
     "data": {
      "text/plain": [
       "(43,)"
      ]
     },
     "execution_count": 62,
     "metadata": {},
     "output_type": "execute_result"
    }
   ],
   "source": [
    "Y_pred_dt.shape"
   ]
  },
  {
   "cell_type": "markdown",
   "id": "c24a700a",
   "metadata": {},
   "source": [
    "# Checking Accuracy Score"
   ]
  },
  {
   "cell_type": "code",
   "execution_count": 63,
   "id": "3878dd7b",
   "metadata": {},
   "outputs": [
    {
     "name": "stdout",
     "output_type": "stream",
     "text": [
      "The accuracy Score achieved using Decision Tree is 90.7%\n"
     ]
    }
   ],
   "source": [
    "score_dt = round(accuracy_score(Y_pred_dt,Y_test)*100,2)\n",
    "print(\"The accuracy Score achieved using Decision Tree is \"+ str(score_dt)+\"%\")"
   ]
  },
  {
   "cell_type": "markdown",
   "id": "45ed63c2",
   "metadata": {},
   "source": [
    "# Confusion matrix and classification report"
   ]
  },
  {
   "cell_type": "code",
   "execution_count": 64,
   "id": "7a70069a",
   "metadata": {},
   "outputs": [
    {
     "name": "stdout",
     "output_type": "stream",
     "text": [
      "[[15  2]\n",
      " [ 2 24]]\n",
      "              precision    recall  f1-score   support\n",
      "\n",
      "           0       0.88      0.88      0.88        17\n",
      "           1       0.92      0.92      0.92        26\n",
      "\n",
      "    accuracy                           0.91        43\n",
      "   macro avg       0.90      0.90      0.90        43\n",
      "weighted avg       0.91      0.91      0.91        43\n",
      "\n"
     ]
    }
   ],
   "source": [
    "print(metrics.confusion_matrix(Y_pred_dt,Y_test))\n",
    "print(classification_report(Y_pred_dt,Y_test))"
   ]
  },
  {
   "cell_type": "markdown",
   "id": "f67f83a2",
   "metadata": {},
   "source": [
    "# Random Forest "
   ]
  },
  {
   "cell_type": "code",
   "execution_count": 65,
   "id": "c64b465a",
   "metadata": {},
   "outputs": [],
   "source": [
    "from sklearn.ensemble import RandomForestClassifier\n",
    "\n",
    "rf = RandomForestClassifier()\n",
    "\n",
    "rf.fit(X_train,Y_train)\n",
    "\n",
    "Y_pred_rf = rf.predict(X_test)"
   ]
  },
  {
   "cell_type": "code",
   "execution_count": 66,
   "id": "41abdb48",
   "metadata": {},
   "outputs": [
    {
     "data": {
      "text/plain": [
       "(43,)"
      ]
     },
     "execution_count": 66,
     "metadata": {},
     "output_type": "execute_result"
    }
   ],
   "source": [
    "Y_pred_rf.shape"
   ]
  },
  {
   "cell_type": "markdown",
   "id": "5ea20fdb",
   "metadata": {},
   "source": [
    "# Checking Accuracy Score"
   ]
  },
  {
   "cell_type": "code",
   "execution_count": 67,
   "id": "0485412f",
   "metadata": {},
   "outputs": [
    {
     "name": "stdout",
     "output_type": "stream",
     "text": [
      "The accuracy Score achieved using Random Forest is 86.05%\n"
     ]
    }
   ],
   "source": [
    "score_rf = round(accuracy_score(Y_pred_rf,Y_test)*100,2)\n",
    "print(\"The accuracy Score achieved using Random Forest is \"+ str(score_rf)+\"%\")"
   ]
  },
  {
   "cell_type": "markdown",
   "id": "41dc46aa",
   "metadata": {},
   "source": [
    "# Confusion matrix and classification report"
   ]
  },
  {
   "cell_type": "code",
   "execution_count": 68,
   "id": "55a10d72",
   "metadata": {},
   "outputs": [
    {
     "name": "stdout",
     "output_type": "stream",
     "text": [
      "[[13  2]\n",
      " [ 4 24]]\n",
      "              precision    recall  f1-score   support\n",
      "\n",
      "           0       0.76      0.87      0.81        15\n",
      "           1       0.92      0.86      0.89        28\n",
      "\n",
      "    accuracy                           0.86        43\n",
      "   macro avg       0.84      0.86      0.85        43\n",
      "weighted avg       0.87      0.86      0.86        43\n",
      "\n"
     ]
    }
   ],
   "source": [
    "print(metrics.confusion_matrix(Y_pred_rf,Y_test))\n",
    "print(classification_report(Y_pred_rf,Y_test))"
   ]
  },
  {
   "cell_type": "markdown",
   "id": "2e6ceaeb",
   "metadata": {},
   "source": [
    "# Final Score "
   ]
  },
  {
   "cell_type": "code",
   "execution_count": 69,
   "id": "c5968e4c",
   "metadata": {},
   "outputs": [
    {
     "name": "stdout",
     "output_type": "stream",
     "text": [
      "The Accuracy Score Achieved Using Logistic Regression is: 90.7 %\n",
      "The Accuracy Score Achieved Using Navie Bayes is: 83.72 %\n",
      "The Accuracy Score Achieved Using Support Vector Machine is: 88.37 %\n",
      "The Accuracy Score Achieved Using K Nearest Neighbors is: 83.72 %\n",
      "The Accuracy Score Achieved Using Decision Tree is: 90.7 %\n",
      "The Accuracy Score Achieved Using Random Forest Tress is: 86.05 %\n"
     ]
    }
   ],
   "source": [
    "scores = [score_lr,score_nb,score_svm,score_knn,score_dt,score_rf]\n",
    "\n",
    "algorithms = [\"Logistic Regression\",\"Navie Bayes\",\"Support Vector Machine\",\"K Nearest Neighbors\",\"Decision Tree\",\"Random Forest Tress\"]\n",
    "\n",
    "for i in range(len(algorithms)):\n",
    "    print(\"The Accuracy Score Achieved Using \"+algorithms[i]+\" is: \"+ str(scores[i])+\" %\")"
   ]
  },
  {
   "cell_type": "code",
   "execution_count": 70,
   "id": "f32f068a",
   "metadata": {},
   "outputs": [
    {
     "name": "stderr",
     "output_type": "stream",
     "text": [
      "C:\\Users\\usama\\anaconda3\\lib\\site-packages\\seaborn\\_decorators.py:36: FutureWarning: Pass the following variables as keyword args: x, y. From version 0.12, the only valid positional argument will be `data`, and passing other arguments without an explicit keyword will result in an error or misinterpretation.\n",
      "  warnings.warn(\n"
     ]
    },
    {
     "data": {
      "text/plain": [
       "<AxesSubplot:xlabel='Algorithms', ylabel='Accuracy Score'>"
      ]
     },
     "execution_count": 70,
     "metadata": {},
     "output_type": "execute_result"
    },
    {
     "data": {
      "image/png": "[encoded data removed]",
      "text/plain": [
       "<Figure size 864x432 with 1 Axes>"
      ]
     },
     "metadata": {},
     "output_type": "display_data"
    }
   ],
   "source": [
    "sns.set(rc={'figure.figsize':(12,6)})\n",
    "plt.xlabel(\"Algorithms\")\n",
    "plt.ylabel(\"Accuracy Score\")\n",
    "\n",
    "sns.barplot(algorithms,scores)"
   ]
  },
  {
   "cell_type": "markdown",
   "id": "d3a396c9",
   "metadata": {},
   "source": [
    "# So From Above Comparision , it can be visualized that Logistic Regression and Decision Tree Gives the best Accuracy"
   ]
  },
  {
   "cell_type": "markdown",
   "id": "1391953a",
   "metadata": {},
   "source": [
    "### accuracy on training data using Logistic Regression"
   ]
  },
  {
   "cell_type": "code",
   "execution_count": 71,
   "id": "0a82b51c",
   "metadata": {},
   "outputs": [
    {
     "name": "stdout",
     "output_type": "stream",
     "text": [
      "The Accuracy on training Data is using Logistic Regression: 88.17 %\n"
     ]
    }
   ],
   "source": [
    "X_train_prediction_lr = lr.predict(X_train)\n",
    "training_data_accuracy_lr = round(accuracy_score(X_train_prediction_lr,Y_train)*100,2)\n",
    "print(\"The Accuracy on training Data is using Logistic Regression: \"+str(training_data_accuracy_lr)+\" %\")"
   ]
  },
  {
   "cell_type": "markdown",
   "id": "1603bf09",
   "metadata": {},
   "source": [
    "### accuracy on test data using Logistic Regression"
   ]
  },
  {
   "cell_type": "code",
   "execution_count": 72,
   "id": "6f6b0e09",
   "metadata": {},
   "outputs": [
    {
     "name": "stdout",
     "output_type": "stream",
     "text": [
      "The Accuracy on test Data is using Logistic Regression: 90.7 %\n"
     ]
    }
   ],
   "source": [
    "X_test_prediction_lr = lr.predict(X_test)\n",
    "test_data_accuracy_lr = round(accuracy_score(X_test_prediction_lr,Y_test)*100,2)\n",
    "print(\"The Accuracy on test Data is using Logistic Regression: \"+str(test_data_accuracy_lr)+\" %\")"
   ]
  },
  {
   "cell_type": "markdown",
   "id": "4f835c8e",
   "metadata": {},
   "source": [
    "### accuracy on training data using Decision Tree"
   ]
  },
  {
   "cell_type": "code",
   "execution_count": 73,
   "id": "c4a6e003",
   "metadata": {},
   "outputs": [
    {
     "name": "stdout",
     "output_type": "stream",
     "text": [
      "The Accuracy on training Data is using Decision Tree: 100.0 %\n"
     ]
    }
   ],
   "source": [
    "X_train_prediction_dt = dt.predict(X_train)\n",
    "training_data_accuracy_dt = round(accuracy_score(X_train_prediction_dt,Y_train)*100,2)\n",
    "print(\"The Accuracy on training Data is using Decision Tree: \"+str(training_data_accuracy_dt)+\" %\")"
   ]
  },
  {
   "cell_type": "markdown",
   "id": "c71aaf1e",
   "metadata": {},
   "source": [
    "### accuracy on test data using Decision Tree"
   ]
  },
  {
   "cell_type": "code",
   "execution_count": 74,
   "id": "64f6c5e1",
   "metadata": {},
   "outputs": [
    {
     "name": "stdout",
     "output_type": "stream",
     "text": [
      "The Accuracy on test Data is using Decision Tree: 90.7 %\n"
     ]
    }
   ],
   "source": [
    "X_test_prediction_dt = dt.predict(X_test)\n",
    "test_data_accuracy_dt = round(accuracy_score(X_test_prediction_dt,Y_test)*100,2)\n",
    "print(\"The Accuracy on test Data is using Decision Tree: \"+str(test_data_accuracy_dt)+\" %\")"
   ]
  },
  {
   "cell_type": "markdown",
   "id": "3c1527a9",
   "metadata": {},
   "source": [
    "# Final Selection Of Model"
   ]
  },
  {
   "cell_type": "code",
   "execution_count": 75,
   "id": "a3ed2d9b",
   "metadata": {},
   "outputs": [
    {
     "name": "stdout",
     "output_type": "stream",
     "text": [
      "The Accuracy Score Achieved Using Training Data LR Accuracy is: 88.17 %\n",
      "The Accuracy Score Achieved Using Testing Data LR Accuracy is: 90.7 %\n",
      "The Accuracy Score Achieved Using Training Data DT Accuracy is: 100.0 %\n",
      "The Accuracy Score Achieved Using Testing Data DT Accuracy is: 90.7 %\n"
     ]
    }
   ],
   "source": [
    "train_test_accuracy_scores = [training_data_accuracy_lr,test_data_accuracy_lr,training_data_accuracy_dt,test_data_accuracy_dt]\n",
    "\n",
    "Model = [\"Training Data LR Accuracy\",\"Testing Data LR Accuracy\",\"Training Data DT Accuracy\",\"Testing Data DT Accuracy\"]\n",
    "\n",
    "for i in range(len(Model)):\n",
    "    print(\"The Accuracy Score Achieved Using \"+Model[i]+\" is: \"+ str(train_test_accuracy_scores[i])+\" %\")"
   ]
  },
  {
   "cell_type": "code",
   "execution_count": 76,
   "id": "f3e6ccb7",
   "metadata": {},
   "outputs": [
    {
     "name": "stderr",
     "output_type": "stream",
     "text": [
      "C:\\Users\\usama\\anaconda3\\lib\\site-packages\\seaborn\\_decorators.py:36: FutureWarning: Pass the following variables as keyword args: x, y. From version 0.12, the only valid positional argument will be `data`, and passing other arguments without an explicit keyword will result in an error or misinterpretation.\n",
      "  warnings.warn(\n"
     ]
    },
    {
     "data": {
      "text/plain": [
       "<AxesSubplot:xlabel='Model', ylabel='Accuracy Score'>"
      ]
     },
     "execution_count": 76,
     "metadata": {},
     "output_type": "execute_result"
    },
    {
     "data": {
      "image/png": "[encoded data removed]",
      "text/plain": [
       "<Figure size 864x432 with 1 Axes>"
      ]
     },
     "metadata": {},
     "output_type": "display_data"
    }
   ],
   "source": [
    "sns.set(rc={'figure.figsize':(12,6)})\n",
    "plt.xlabel(\"Model\")\n",
    "plt.ylabel(\"Accuracy Score\")\n",
    "\n",
    "sns.barplot(Model,train_test_accuracy_scores)"
   ]
  },
  {
   "cell_type": "markdown",
   "id": "03132391",
   "metadata": {},
   "source": [
    "# I'm Gonna use SVM Because Both Decision Tree & Logistic Regression Causing Overfitting"
   ]
  },
  {
   "cell_type": "code",
   "execution_count": 77,
   "id": "9f2775b1",
   "metadata": {},
   "outputs": [
    {
     "data": {
      "text/html": [
       "<div>\n",
       "<style scoped>\n",
       "    .dataframe tbody tr th:only-of-type {\n",
       "        vertical-align: middle;\n",
       "    }\n",
       "\n",
       "    .dataframe tbody tr th {\n",
       "        vertical-align: top;\n",
       "    }\n",
       "\n",
       "    .dataframe thead th {\n",
       "        text-align: right;\n",
       "    }\n",
       "</style>\n",
       "<table border=\"1\" class=\"dataframe\">\n",
       "  <thead>\n",
       "    <tr style=\"text-align: right;\">\n",
       "      <th></th>\n",
       "      <th>gender</th>\n",
       "      <th>ssc_p</th>\n",
       "      <th>hsc_p</th>\n",
       "      <th>hsc_s</th>\n",
       "      <th>degree_p</th>\n",
       "      <th>degree_t</th>\n",
       "      <th>workex</th>\n",
       "      <th>etest_p</th>\n",
       "      <th>specialisation</th>\n",
       "      <th>mba_p</th>\n",
       "      <th>status</th>\n",
       "    </tr>\n",
       "  </thead>\n",
       "  <tbody>\n",
       "    <tr>\n",
       "      <th>0</th>\n",
       "      <td>0</td>\n",
       "      <td>67.00</td>\n",
       "      <td>91.00</td>\n",
       "      <td>1</td>\n",
       "      <td>58.00</td>\n",
       "      <td>2</td>\n",
       "      <td>0</td>\n",
       "      <td>55.0</td>\n",
       "      <td>1</td>\n",
       "      <td>58.80</td>\n",
       "      <td>1</td>\n",
       "    </tr>\n",
       "    <tr>\n",
       "      <th>1</th>\n",
       "      <td>0</td>\n",
       "      <td>79.33</td>\n",
       "      <td>78.33</td>\n",
       "      <td>2</td>\n",
       "      <td>77.48</td>\n",
       "      <td>2</td>\n",
       "      <td>1</td>\n",
       "      <td>86.5</td>\n",
       "      <td>0</td>\n",
       "      <td>66.28</td>\n",
       "      <td>1</td>\n",
       "    </tr>\n",
       "    <tr>\n",
       "      <th>2</th>\n",
       "      <td>0</td>\n",
       "      <td>65.00</td>\n",
       "      <td>68.00</td>\n",
       "      <td>0</td>\n",
       "      <td>64.00</td>\n",
       "      <td>0</td>\n",
       "      <td>0</td>\n",
       "      <td>75.0</td>\n",
       "      <td>0</td>\n",
       "      <td>57.80</td>\n",
       "      <td>1</td>\n",
       "    </tr>\n",
       "    <tr>\n",
       "      <th>3</th>\n",
       "      <td>0</td>\n",
       "      <td>56.00</td>\n",
       "      <td>52.00</td>\n",
       "      <td>2</td>\n",
       "      <td>52.00</td>\n",
       "      <td>2</td>\n",
       "      <td>0</td>\n",
       "      <td>66.0</td>\n",
       "      <td>1</td>\n",
       "      <td>59.43</td>\n",
       "      <td>0</td>\n",
       "    </tr>\n",
       "    <tr>\n",
       "      <th>4</th>\n",
       "      <td>0</td>\n",
       "      <td>85.80</td>\n",
       "      <td>73.60</td>\n",
       "      <td>1</td>\n",
       "      <td>73.30</td>\n",
       "      <td>0</td>\n",
       "      <td>0</td>\n",
       "      <td>96.8</td>\n",
       "      <td>0</td>\n",
       "      <td>55.50</td>\n",
       "      <td>1</td>\n",
       "    </tr>\n",
       "  </tbody>\n",
       "</table>\n",
       "</div>"
      ],
      "text/plain": [
       "   gender  ssc_p  hsc_p  hsc_s  degree_p  degree_t  workex  etest_p  \\\n",
       "0       0  67.00  91.00      1     58.00         2       0     55.0   \n",
       "1       0  79.33  78.33      2     77.48         2       1     86.5   \n",
       "2       0  65.00  68.00      0     64.00         0       0     75.0   \n",
       "3       0  56.00  52.00      2     52.00         2       0     66.0   \n",
       "4       0  85.80  73.60      1     73.30         0       0     96.8   \n",
       "\n",
       "   specialisation  mba_p  status  \n",
       "0               1  58.80       1  \n",
       "1               0  66.28       1  \n",
       "2               0  57.80       1  \n",
       "3               1  59.43       0  \n",
       "4               0  55.50       1  "
      ]
     },
     "execution_count": 77,
     "metadata": {},
     "output_type": "execute_result"
    }
   ],
   "source": [
    "df.head()"
   ]
  },
  {
   "cell_type": "markdown",
   "id": "9d06d4fa",
   "metadata": {},
   "source": [
    "# Building A Predictive System"
   ]
  },
  {
   "cell_type": "code",
   "execution_count": 78,
   "id": "46e58488",
   "metadata": {},
   "outputs": [
    {
     "name": "stdout",
     "output_type": "stream",
     "text": [
      "[0]\n",
      "The Candidate isn't placed\n"
     ]
    },
    {
     "name": "stderr",
     "output_type": "stream",
     "text": [
      "C:\\Users\\usama\\anaconda3\\lib\\site-packages\\sklearn\\base.py:450: UserWarning: X does not have valid feature names, but SVC was fitted with feature names\n",
      "  warnings.warn(\n"
     ]
    }
   ],
   "source": [
    "prediction = sv.predict([[0\t,16.00,\t\t12.00,\t\t2,\t12.00,\t2,\t0,\t26.0,\t1,\t59.43]])\n",
    "print(prediction)\n",
    "if prediction[0] == 0:\n",
    "    print(\"The Candidate isn't placed\")\n",
    "else:\n",
    "    print(\"The Candidate is placed\")"
   ]
  },
  {
   "cell_type": "code",
   "execution_count": 79,
   "id": "a1510055",
   "metadata": {},
   "outputs": [
    {
     "name": "stdout",
     "output_type": "stream",
     "text": [
      "[1]\n",
      "The Candidate is placed\n"
     ]
    },
    {
     "name": "stderr",
     "output_type": "stream",
     "text": [
      "C:\\Users\\usama\\anaconda3\\lib\\site-packages\\sklearn\\base.py:450: UserWarning: X does not have valid feature names, but SVC was fitted with feature names\n",
      "  warnings.warn(\n"
     ]
    }
   ],
   "source": [
    "prediction = sv.predict([[0\t,67.00,\t\t91.00,\t\t1,\t58.00,\t2,\t0,\t55.0,\t1,\t58.80]])\n",
    "print(prediction)\n",
    "if prediction[0] == 0:\n",
    "    print(\"The Candidate isn't placed\")\n",
    "else:\n",
    "    print(\"The Candidate is placed\")"
   ]
  },
  {
   "cell_type": "markdown",
   "id": "6d77d5ee",
   "metadata": {},
   "source": [
    "# Saving The Trained Model"
   ]
  },
  {
   "cell_type": "code",
   "execution_count": 80,
   "id": "09f96758",
   "metadata": {},
   "outputs": [],
   "source": [
    "import pickle"
   ]
  },
  {
   "cell_type": "code",
   "execution_count": 81,
   "id": "de89e28f",
   "metadata": {},
   "outputs": [],
   "source": [
    "filename = 'placed_model.pkl'\n",
    "pickle.dump(sv , open(filename, 'wb'))"
   ]
  },
  {
   "cell_type": "markdown",
   "id": "cd69f1c5",
   "metadata": {},
   "source": [
    "### Loading The save model"
   ]
  },
  {
   "cell_type": "code",
   "execution_count": 82,
   "id": "d7c673f2",
   "metadata": {},
   "outputs": [],
   "source": [
    "load_model = pickle.load(open('placed_model.pkl','rb'))"
   ]
  }
 ],
 "metadata": {
  "kernelspec": {
   "display_name": "Python 3 (ipykernel)",
   "language": "python",
   "name": "python3"
  },
  "language_info": {
   "codemirror_mode": {
    "name": "ipython",
    "version": 3
   },
   "file_extension": ".py",
   "mimetype": "text/x-python",
   "name": "python",
   "nbconvert_exporter": "python",
   "pygments_lexer": "ipython3",
   "version": "3.9.12"
  }
 },
 "nbformat": 4,
 "nbformat_minor": 5
}
